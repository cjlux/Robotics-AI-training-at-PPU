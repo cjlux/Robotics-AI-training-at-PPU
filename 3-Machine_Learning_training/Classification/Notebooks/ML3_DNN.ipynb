{
 "cells": [
  {
   "cell_type": "markdown",
   "metadata": {},
   "source": [
    "<span style=\"font-size:10pt\">Robotics & AI workshop @ PPU – June 2022 – Jean-Luc Charles (Jean-Luc.charles@ensam.eu) – CC BY-SA 4.0 – v1.0</span>"
   ]
  },
  {
   "cell_type": "markdown",
   "metadata": {},
   "source": [
    "# Machine learning with tensorflow2 & keras\n",
    "\n",
    "# Train/operate a Dense Neural Network (DNN) for the classification of handwritten digits images"
   ]
  },
  {
   "cell_type": "markdown",
   "metadata": {},
   "source": [
    "<div class=\"alert alert-block alert-danger\">\n",
    "<span style=\"color:brown;font-family:arial;font-size:14pt\"> \n",
    "It is important to use a <span style=\"font-weight:bold;\">Python Virtual Environment</span> (PVE) for main Python projects: a PVE makes it possible to control for each project the versions of the Python interpreter and the \"sensitive\" modules (like tensorflow).</span></div>\n",
    "\n",
    "All the notebooks in this directory must be loaded into a `jupyter notebook` launched in the PVE <b><span style=\"color: rgb(200, 151, 102);\" >pyml</span></b> specially created for the workshop.<br>\n",
    "They must be worked in this order:\n",
    "- `ML1_MNIST.ipynb`: check that the <b><span style=\"color: rgb(200, 151, 102);\">pyml</span></b> EVP is fully operationnal, load and use the data from the MNIST database (images and labels).\n",
    "- `ML2_DNN.ipynb`: build a Dense Neural Network, train it with data from the MNIST and evaluate its performance.\n",
    "- `ML3_DNN_ipynb`: re-load a trained DNN and evaluate its performnce with MNIST test data.\n",
    "- `ML4_CNN.ipynb`: build a Convolutional Neural Network, train it with the MNIST database, ebvaluate its performance and use it with test data."
   ]
  },
  {
   "cell_type": "markdown",
   "metadata": {},
   "source": [
    "## Targeted learning objectives:\n",
    "- Know how to reload the structure and the weights of a previously trained DNNN.\n",
    "- Know how to exploit the reloaded trained DNN with the `predict` method.\n",
    "- Know how to display the matrix of confusion."
   ]
  },
  {
   "cell_type": "markdown",
   "metadata": {},
   "source": [
    "## 1 - Check Python modules\n",
    "The **keras** module which allows high-level manipulation of **tensorflow** objects is integrated in the **tensorflow** (tf) module since version 2. <br>\n",
    "The **tf.keras** module documentation to consult for this APP is here: [www.tensorflow.org/api_docs/python/tf/keras](https://www.tensorflow.org/api_docs/python/tf/keras)."
   ]
  },
  {
   "cell_type": "markdown",
   "metadata": {},
   "source": [
    "#### Delete the (numerous) warning messages from the **tensorflow** module:"
   ]
  },
  {
   "cell_type": "code",
   "execution_count": null,
   "metadata": {},
   "outputs": [],
   "source": [
    "import os\n",
    "os.environ['TF_CPP_MIN_LOG_LEVEL'] = '3'"
   ]
  },
  {
   "cell_type": "code",
   "execution_count": null,
   "metadata": {},
   "outputs": [],
   "source": [
    "import tensorflow as tf\n",
    "from tensorflow import keras\n",
    "import numpy as np\n",
    "import sys, cv2\n",
    "import matplotlib.pyplot as plt\n",
    "print(f\"Python    : {sys.version.split()[0]}\")\n",
    "print(f\"tensorflow: {tf.__version__} incluant keras {keras.__version__}\")\n",
    "print(f\"numpy     : {np.__version__}\")\n",
    "print(f\"OpenCV    : {cv2.__version__}\")"
   ]
  },
  {
   "cell_type": "markdown",
   "metadata": {},
   "source": [
    "Embedding matplotlib plots in the notebook:"
   ]
  },
  {
   "cell_type": "code",
   "execution_count": null,
   "metadata": {
    "scrolled": true
   },
   "outputs": [],
   "source": [
    "%matplotlib inline"
   ]
  },
  {
   "cell_type": "markdown",
   "metadata": {},
   "source": [
    "# Reminder of the structure of the DNN\n",
    "\n",
    "In this notebook we will build a **Dense Neural Network** , with:\n",
    "- an **input layer** of 784 values between 0 and 1 (the pixels of the MNIST 28 $\\times$ 28 images flattened to a normalized vector of 784 `float` numbers),\n",
    "- a **hidden layer** of 784 neurons with the `relu` activation function,\n",
    "- an **output layer** of 10 neurons for the classification of images into 10 classes associated with the digits {0,1,2...9}, using the `softmax` activation function adapted to classification problems.\n",
    "<p style=\"text-align:center; font-style:italic; font-size:12px;\">\n",
    "    <img src=\"img/archiReseau.png\" alt=\"archiReseau.png\" style=\"width: 900px;\"><br> \n",
    "    [crédit image : JLC]\n",
    "</p>"
   ]
  },
  {
   "cell_type": "markdown",
   "metadata": {},
   "source": [
    "## Work to do\n",
    "### 1 - Load and pre-process the MNIST test data set<br>2 - Reload the trained DNN structure and its weights<br>3 - Exploit the trained DNN with predict method<br>4 - Display the matrix of confusion"
   ]
  },
  {
   "cell_type": "markdown",
   "metadata": {},
   "source": [
    "## 1 - Load and pre-process MNIST test data set"
   ]
  },
  {
   "cell_type": "markdown",
   "metadata": {},
   "source": [
    "The work of loading MNIST images has been explained in the *notebook* `ML1_MNIST.ipynb`:"
   ]
  },
  {
   "cell_type": "code",
   "execution_count": null,
   "metadata": {},
   "outputs": [],
   "source": [
    "# Load the MNIST data set:\n",
    "(im_train, lab_train), (im_test, lab_test) = tf.keras.datasets.mnist.load_data()\n",
    "\n",
    "# Define parameters :\n",
    "nb_im_test  = im_test.shape[0]     # number of test images\n",
    "nb_pixel    = im_test[0].size      # number of pixels par iamge\n",
    "nb_classe   = len(set(lab_test))   # number of classes (10 digits from 0 to 9)\n",
    "\n",
    "print(f\"{nb_im_test} test images\")\n",
    "print(f\"{nb_pixel} pixels in each image\")\n",
    "print(f\"{nb_classe} classes (the digits from 0 to 9)\")\n",
    "\n",
    "# Flatten and normalize matrixes:\n",
    "x_test  = im_test.reshape(nb_im_test, nb_pixel)/im_test.max()\n",
    "\n",
    "# 'one-hot' encoding of the labels:\n",
    "from tensorflow.keras.utils import to_categorical\n",
    "y_test  = to_categorical(lab_test)"
   ]
  },
  {
   "cell_type": "markdown",
   "metadata": {},
   "source": [
    "## 2 - Reload the trained network structure and weights\n",
    "\n",
    "The `load_model` method of the `tf.keras.models` class reloads **the structure** and **the weights** of a trained network.<br>\n",
    "So you can build and relod the DNN trained in the previous notebook:"
   ]
  },
  {
   "cell_type": "code",
   "execution_count": null,
   "metadata": {},
   "outputs": [],
   "source": [
    "import os\n",
    "\n",
    "# define the path for the DNN trained in the previous notebook:\n",
    "model_path = os.path.join('models', 'trained1_model')\n",
    "\n",
    "# load the DNN structure and weights:\n",
    "model = tf.keras.models.load_model(model_path)"
   ]
  },
  {
   "cell_type": "markdown",
   "metadata": {},
   "source": [
    "## 3 - Exploiting the trained network: `predict` method\n",
    "\n",
    "The `predict` method is used to compute the DNN inferences for one or more inputs (see the `predict` method in the page \n",
    "[tf.keras.Sequential](https://www.tensorflow.org/api_docs/python/tf/keras/Sequential#predict)).\n",
    "\n",
    "The cell below shows an example:"
   ]
  },
  {
   "cell_type": "code",
   "execution_count": null,
   "metadata": {},
   "outputs": [],
   "source": [
    "i = 100  # number of the test image \n",
    "\n",
    "# display the image:\n",
    "from utils.tools import plot_images\n",
    "plot_images(im_test,i,1,1) ; plt.show()\n",
    "\n",
    "# compute the trained DNN inference inférence for tes test image:\n",
    "rep = model.predict(x_test[i:i+1])      # Warning: x must be an array of matrixes, not a simple matrix\n",
    "                                        # => x[i] does not work!\n",
    "\n",
    "print(f\"DNN inférence for the test image #{i} :\\n{rep[0]}\")"
   ]
  },
  {
   "cell_type": "markdown",
   "metadata": {},
   "source": [
    "to make the output of the network more readable, we can limit the display of the numpy array to 2 decimal places:"
   ]
  },
  {
   "cell_type": "code",
   "execution_count": null,
   "metadata": {},
   "outputs": [],
   "source": [
    "with np.printoptions(formatter={'float':'{:.2f}'.format}):    \n",
    "    print(f\"DNN inférence for the test image #{i} rounded to 2 digits: {rep[0]}\")"
   ]
  },
  {
   "cell_type": "markdown",
   "metadata": {},
   "source": [
    "The `argmax` method of the *ndarray* arrays of *numpy* gives the rank of the maximum value:"
   ]
  },
  {
   "cell_type": "code",
   "execution_count": null,
   "metadata": {},
   "outputs": [],
   "source": [
    "print(f\"Predicted label is rep[0].argmax(): {rep[0].argmax()}\")\n",
    "print(f\"True label of the test image #{i} : {lab_test[i]}\")"
   ]
  },
  {
   "cell_type": "markdown",
   "metadata": {},
   "source": [
    "### Usefulness of numpy's `argmax` method to decode the array of *one-hot* vectors returned by `predict`\n",
    "\n",
    "When you compute inferences of the DNN for the images of the `x_test` array for example, you get an array of *one-hot* vectors:"
   ]
  },
  {
   "cell_type": "code",
   "execution_count": null,
   "metadata": {},
   "outputs": [],
   "source": [
    "results = model.predict(x_test)\n",
    "print(\"shape of the 'results' ndarray:\", results.shape)\n",
    "print(\"Example of display of vectors in the 'result' ndarray:\")\n",
    "with np.printoptions(formatter={'float':'{:.2f}'.format}): \n",
    "    print(\"\\tresults[0]  :\", results[0])\n",
    "    print(\"\\tresults[-1] :\", results[-1])"
   ]
  },
  {
   "cell_type": "markdown",
   "metadata": {},
   "source": [
    "With the expression `results.argmax(axe=-1)`, you get the array of the `argmax` of each vector $\\leadsto$ it is the array of the digits classified by the network:"
   ]
  },
  {
   "cell_type": "code",
   "execution_count": null,
   "metadata": {},
   "outputs": [],
   "source": [
    "inferences = results.argmax(axis=-1)\n",
    "print(f\"inferences.shape: {inferences.shape}, inferences.dtype: {inferences.dtype}\")\n",
    "print(f\"Content of 'inferences': {inferences}\")"
   ]
  },
  {
   "cell_type": "markdown",
   "metadata": {},
   "source": [
    "We can compare `inferences` and `lab_test` with the `==` operator (this makes sense with the *ndarray* of the *numpy* module):"
   ]
  },
  {
   "cell_type": "code",
   "execution_count": null,
   "metadata": {},
   "outputs": [],
   "source": [
    "inferences == lab_test"
   ]
  },
  {
   "cell_type": "markdown",
   "metadata": {},
   "source": [
    "by counting the number of `True` we get the number of correct inferences:"
   ]
  },
  {
   "cell_type": "code",
   "execution_count": null,
   "metadata": {},
   "outputs": [],
   "source": [
    "inference_ok = (inferences == lab_test)\n",
    "print(f\"number of true inferences: {inference_ok.sum()} over {nb_im_test} test images\")\n",
    "\n",
    "precision = inference_ok.sum()/nb_im_test*100\n",
    "print(f\"precision of the trained DNN: {precision:.1f} %\")"
   ]
  },
  {
   "cell_type": "markdown",
   "metadata": {},
   "source": [
    "## 4 - Show Confusion Matrix\n",
    "\n",
    "The `show_cm` function from the `utils.tools` module displays the **confusion matrix** to visualize:\n",
    "- on the diagonal: the correct inferences of the DNN, with the number of correct answers in each box\n",
    "- off diagonal: the DNN errors, with in each box the number of occurrences."
   ]
  },
  {
   "cell_type": "code",
   "execution_count": null,
   "metadata": {},
   "outputs": [],
   "source": [
    "from utils.tools import show_cm\n",
    "help(show_cm)"
   ]
  },
  {
   "cell_type": "markdown",
   "metadata": {},
   "source": [
    "Call the `show_cm` function with arguments `lab_test`, `results` and the list of classes to display the confusion matrix:"
   ]
  },
  {
   "cell_type": "code",
   "execution_count": null,
   "metadata": {},
   "outputs": [],
   "source": []
  },
  {
   "cell_type": "markdown",
   "metadata": {},
   "source": [
    "### Further work:\n",
    "You can now load the `MLC_CNN_cont.ipynb` notebook to learn to learn how to build and operate a convolutional neural network."
   ]
  },
  {
   "cell_type": "markdown",
   "metadata": {},
   "source": [
    "# Other interesting resources... videos:"
   ]
  },
  {
   "cell_type": "code",
   "execution_count": 1,
   "metadata": {},
   "outputs": [
    {
     "data": {
      "text/html": [
       "<iframe src=\"https://www.youtube.com/embed/aircAruvnKk\" width=\"800\" height=\"450\" frameborder=\"0\" allow=\"accelerometer; autoplay; encrypted-media; gyroscope; picture-in-picture\" allowfullscreen></iframe>\n"
      ],
      "text/plain": [
       "<IPython.core.display.HTML object>"
      ]
     },
     "metadata": {},
     "output_type": "display_data"
    }
   ],
   "source": [
    "%%HTML\n",
    "<iframe src=\"https://www.youtube.com/embed/aircAruvnKk\" width=\"800\" height=\"450\" frameborder=\"0\" allow=\"accelerometer; autoplay; encrypted-media; gyroscope; picture-in-picture\" allowfullscreen></iframe>"
   ]
  },
  {
   "cell_type": "code",
   "execution_count": 2,
   "metadata": {},
   "outputs": [
    {
     "data": {
      "text/html": [
       "<iframe src=\"https://www.youtube.com/embed/IHZwWFHWa-w\" width=\"800\" height=\"450\" frameborder=\"0\" allow=\"accelerometer; autoplay; encrypted-media; gyroscope; picture-in-picture\" allowfullscreen></iframe>\n"
      ],
      "text/plain": [
       "<IPython.core.display.HTML object>"
      ]
     },
     "metadata": {},
     "output_type": "display_data"
    }
   ],
   "source": [
    "%%HTML\n",
    "<iframe src=\"https://www.youtube.com/embed/IHZwWFHWa-w\" width=\"800\" height=\"450\" frameborder=\"0\" allow=\"accelerometer; autoplay; encrypted-media; gyroscope; picture-in-picture\" allowfullscreen></iframe>"
   ]
  },
  {
   "cell_type": "code",
   "execution_count": 3,
   "metadata": {},
   "outputs": [
    {
     "data": {
      "text/html": [
       "<iframe src=\"https://www.youtube.com/embed/Ilg3gGewQ5U\" width=\"800\" height=\"450\" frameborder=\"0\" allow=\"accelerometer; autoplay; encrypted-media; gyroscope; picture-in-picture\" allowfullscreen></iframe>\n"
      ],
      "text/plain": [
       "<IPython.core.display.HTML object>"
      ]
     },
     "metadata": {},
     "output_type": "display_data"
    }
   ],
   "source": [
    "%%HTML\n",
    "<iframe src=\"https://www.youtube.com/embed/Ilg3gGewQ5U\" width=\"800\" height=\"450\" frameborder=\"0\" allow=\"accelerometer; autoplay; encrypted-media; gyroscope; picture-in-picture\" allowfullscreen></iframe>"
   ]
  },
  {
   "cell_type": "code",
   "execution_count": null,
   "metadata": {},
   "outputs": [],
   "source": []
  }
 ],
 "metadata": {
  "kernelspec": {
   "display_name": "Python 3",
   "language": "python",
   "name": "python3"
  },
  "language_info": {
   "codemirror_mode": {
    "name": "ipython",
    "version": 3
   },
   "file_extension": ".py",
   "mimetype": "text/x-python",
   "name": "python",
   "nbconvert_exporter": "python",
   "pygments_lexer": "ipython3",
   "version": "3.6.12"
  }
 },
 "nbformat": 4,
 "nbformat_minor": 4
}
