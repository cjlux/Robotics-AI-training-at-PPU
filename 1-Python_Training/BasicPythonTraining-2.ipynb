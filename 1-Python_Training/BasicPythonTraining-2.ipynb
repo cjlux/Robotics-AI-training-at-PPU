{
 "cells": [
  {
   "cell_type": "markdown",
   "metadata": {},
   "source": [
    "<span style=\"font-size:10pt\">Robotics & AI workshop @ PPU – June 2022 – Jean-Luc Charles (Jean-Luc.charles@ensam.eu) – CC BY-SA 4.0 – v1.0</span><span style=\"font-size:8pt\">*ENSAM-Bordeaux, Mathématiques et informatique. Date : le 10/02/20. Auteurs : Éric Ducasse & Jean-Luc Charles. Version : 1.1*</span>"
   ]
  },
  {
   "cell_type": "markdown",
   "metadata": {},
   "source": [
    "# Basic Python training: session 2"
   ]
  },
  {
   "cell_type": "code",
   "execution_count": null,
   "metadata": {},
   "outputs": [],
   "source": [
    "%matplotlib inline"
   ]
  },
  {
   "cell_type": "markdown",
   "metadata": {},
   "source": [
    "### **numpy** Internet links:\n",
    "- **numpy**  user-guide from numpy.org : [NumPy user guide](https://numpy.org/devdocs/user/index.html)\n",
    "- numpy tutorial from www.w3schools.com : [NumPy Tutorial](https://www.w3schools.com/python/numpy/default.asp)"
   ]
  },
  {
   "cell_type": "markdown",
   "metadata": {},
   "source": [
    "## 5/ Conversion list ↔ ndarray\n",
    "<span style=\"color:green\">list</span> objects are largely used for collecting data, but they can't be used for **numeric calculation**.\n",
    "\n",
    "You must know how to use:\n",
    "- The [array](https://docs.scipy.org/doc/numpy/reference/generated/numpy.array.html) function of the **numpy** module , \n",
    "to convert a <span style=\"color:green\">list</span> into an <span style=\"color:green\">numpy.ndarray</span> and vice versa:<br>\n",
    "`M = numpy.array(L)` $\\leadsto$ converts the `L` list to the `M` n-dimensional array\n",
    "\n",
    "- The method [tolist](https://docs.scipy.org/doc/numpy/reference/generated/numpy.ndarray.tolist.html) of the class \n",
    "<span style=\"color:green\">numpy.ndarray</span>, to convert a <span style=\"color:green\">ndarray</span> into a <span style=\"color:green\">list</span>:<br>\n",
    "`L=M.tolist()` $\\leadsto$ converts the `M` array to the a list.\n"
   ]
  },
  {
   "cell_type": "markdown",
   "metadata": {},
   "source": [
    "### Exercice 8 $–$ List ↔ vector conversion\n",
    "\n",
    "- Import the <span style=\"color:green\">numpy</span> module with the <span style=\"color:green\">np</span> alias.\n",
    "- Define the list comprehension `L1` as the squared integers from 1 to 9.<br>\n",
    "- Define and display `V1`, the conversion of `L1` to a <span style=\"color:green\">numpy.ndarray</span>.<br />\n",
    "- Display the type of `V1` and its attributes\n",
    "<span style=\"color:green\">dtype</span>,\n",
    "<span style=\"color:green\">shape</span>,\n",
    "<span style=\"color:green\">ndim</span>,\n",
    "<span style=\"color:green\">size</span>,\n",
    "<span style=\"color:green\">itemsize</span> and\n",
    "<span style=\"color:green\">nbytes</span>.\n",
    "- Define and display `V2`, the conversion of `L1` to a <span style=\"color:green\">ndarray</span> of integers, obtained by passing the additional argument\n",
    "<span style=\"color:brown\">dtype=</span><span style=\"color:green\">\"uint8\"</span>\n",
    "to the `array` function.<br>\n",
    "Display the `V2.itemsize` attribute.<br />.\n",
    "- Define **without any explicit loop** the vector `V3`, such that for all $i$:\n",
    "$V3[i]\\,=\\,\\sqrt{V2[i]}\\,\\cos(V2[i]\\,\\pi/20)$.<br />\n",
    "- Show `V3` and its attributes\n",
    "<span style=\"color:green\">shape</span>,\n",
    "<span style=\"color:green\">ndim</span> and\n",
    "<span style=\"color:green\">size</span>.\n",
    "- Modify `V3` with the instruction `V3.shape = (3,3)`: display again `V3` and its attributes\n",
    "<span style=\"color:green\">shape</span>,\n",
    "<span style=\"color:green\">ndim</span> and\n",
    "<span style=\"color:green\">size</span>; observe what has changed.\n",
    "- Convert `V3` to a `L3` list with <span style=\"color:green\">tolist</span> method. Display `L3`."
   ]
  },
  {
   "cell_type": "code",
   "execution_count": null,
   "metadata": {},
   "outputs": [],
   "source": [
    "\n"
   ]
  },
  {
   "cell_type": "code",
   "execution_count": null,
   "metadata": {},
   "outputs": [],
   "source": []
  },
  {
   "cell_type": "markdown",
   "metadata": {},
   "source": [
    "### Exercice 9 $–$ Conversions list ↔ matrix\n",
    "\n",
    "- Observe  the result of the two instructions:<br>\n",
    "`[10*i+j for i in range(1,4) for j in range(1,4)]` <br>\n",
    "`[[10*i+j for j in range(1,4)] for i in range(1,4)]`.\n",
    "\n",
    "- Deduce two different ways to define the `M` matrix of general term $M_{i,\\,j}=j^{\\,i}$ with $(i,j) \\in [1;5]\\times [1;5]$ from list comprehension defined then converted to <span style=\"color:green\">ndarray</span> ."
   ]
  },
  {
   "cell_type": "code",
   "execution_count": null,
   "metadata": {},
   "outputs": [],
   "source": [
    "[10*i+j for i in range(1,4) for j in range(1,4)]"
   ]
  },
  {
   "cell_type": "code",
   "execution_count": null,
   "metadata": {},
   "outputs": [],
   "source": [
    "[[10*i+j for j in range(1,4)] for i in range(1,4)]"
   ]
  },
  {
   "cell_type": "markdown",
   "metadata": {},
   "source": [
    "##### <span style=\"color:#0060B0\">Vector converted into a matrix:</span>"
   ]
  },
  {
   "cell_type": "code",
   "execution_count": null,
   "metadata": {},
   "outputs": [],
   "source": []
  },
  {
   "cell_type": "markdown",
   "metadata": {},
   "source": [
    "##### <span style=\"color:#0060B0\">List of lists converted into a matrix:</span>"
   ]
  },
  {
   "cell_type": "code",
   "execution_count": null,
   "metadata": {},
   "outputs": [],
   "source": []
  },
  {
   "cell_type": "markdown",
   "metadata": {},
   "source": [
    "## 5/ Reading ASCII files $-$ Encoding\n",
    "\n",
    "ASCII files are opened with the <span style=\"color:green\">open</span> primitive which returns an iterable object of type </span><span style=\"color:green\">TextIOWrapper</span>: <br>\n",
    "    <span style=\"font-family:courier\">\n",
    "    <span style=\"color:#B08000\">with</span> <span style=\"color:#800080\">open</span>(<span style=\"color:#808080\">file path</span>, \n",
    "    <span style=\"color:#008000\">\"r\"</span>, encoding=<span style=\"color:#808080\"><encoding specification></span>)\n",
    "    <span style =\"color:#B08000\"> as</span> F:<br>\n",
    "    <span style=\"color:white\">&nbsp;&nbsp;&nbsp;</span>...</p> </span>\n",
    "    \n",
    "Reading accentuated characters requires specifying their **encoding** for correct interpretation.<br>\n",
    "The most common encodings are **utf8** (Mac OS X, GNU/Linux default encoding) and **cp1252** or **iso8859-15** (Windows default encoding).<br>\n",
    "\n",
    "Using a **<span style=\"font-family:courier;color:#B08000\">with</span>** block automatically closes the file as soon as you exit the block."
   ]
  },
  {
   "cell_type": "markdown",
   "metadata": {},
   "source": [
    "### Exercice 10 – Global reading of an ASCII file, decoding of accentuated characters\n",
    "\n",
    "- Read the `accents.txt` file (found in the `data` directory) in a single string with the method </span><span style=\"color:green\">read</span>, \n",
    "specifying **cp1252** as encoding, then display the resulting string.\n",
    "- Same work, this time specifying **utf8** as the encoding."
   ]
  },
  {
   "cell_type": "markdown",
   "metadata": {},
   "source": [
    "##### <span style=\"color:#0060B0\">`cp1252` encoding:</span>"
   ]
  },
  {
   "cell_type": "code",
   "execution_count": null,
   "metadata": {},
   "outputs": [],
   "source": []
  },
  {
   "cell_type": "markdown",
   "metadata": {},
   "source": [
    "##### <span style=\"color:#0060B0\">`utf8` encoding</span>"
   ]
  },
  {
   "cell_type": "code",
   "execution_count": null,
   "metadata": {},
   "outputs": [],
   "source": []
  },
  {
   "cell_type": "markdown",
   "metadata": {},
   "source": [
    "### Exercice 11 $–$ Read an ASCII file\n",
    "Use the <span style=\"color:green\">readlines</span> method of the class </span><span style=\"color:green\">TextIOWrapper</span>  to read the content of the opened file `data.txt` (located in the directory `data`) into a </span><span style=\"color:green\">list</span> object named `listData`:"
   ]
  },
  {
   "cell_type": "code",
   "execution_count": null,
   "metadata": {},
   "outputs": [],
   "source": []
  },
  {
   "cell_type": "markdown",
   "metadata": {},
   "source": [
    "Define and print the list comprehension `listData2` containing all the lines of `listData` that are not a comment (a comment line starts with `#`)"
   ]
  },
  {
   "cell_type": "code",
   "execution_count": null,
   "metadata": {},
   "outputs": [],
   "source": []
  },
  {
   "cell_type": "markdown",
   "metadata": {},
   "source": [
    "now we can transform the list of lines `listData2` into a list of list of floats:"
   ]
  },
  {
   "cell_type": "code",
   "execution_count": null,
   "metadata": {},
   "outputs": [],
   "source": [
    "data = [[float(x) for x in line.split()] for line in listData2]\n",
    "data"
   ]
  },
  {
   "cell_type": "markdown",
   "metadata": {},
   "source": [
    "let's convert the list `data` into a matrix `M` (ndarray with 2 dimensions):"
   ]
  },
  {
   "cell_type": "code",
   "execution_count": null,
   "metadata": {},
   "outputs": [],
   "source": [
    "import numpy as np\n",
    "M = np.array(data)\n",
    "del data                 # free the memory taken by the list which is no more used\n",
    "M"
   ]
  },
  {
   "cell_type": "markdown",
   "metadata": {},
   "source": [
    "lets's do a bit of slicing and calculus with `M`:"
   ]
  },
  {
   "cell_type": "code",
   "execution_count": null,
   "metadata": {},
   "outputs": [],
   "source": [
    "t = M[:,0]  # first column of the matrix: time\n",
    "t"
   ]
  },
  {
   "cell_type": "code",
   "execution_count": null,
   "metadata": {},
   "outputs": [],
   "source": [
    "stress = 1e-6*M[:,1]     # second column of the matrix: stress converted in MPa\n",
    "stress"
   ]
  },
  {
   "cell_type": "code",
   "execution_count": null,
   "metadata": {},
   "outputs": [],
   "source": [
    "strain = 100*M[:,2]     # third column of the matrix: strain converted in %\n",
    "strain"
   ]
  },
  {
   "cell_type": "markdown",
   "metadata": {},
   "source": [
    "## 6/ Read CSV files with `pandas` and plot data with `matplotlib.pyplot`"
   ]
  },
  {
   "cell_type": "markdown",
   "metadata": {},
   "source": [
    "The **magic** command %load loads a file into a cell of the notebook:"
   ]
  },
  {
   "cell_type": "code",
   "execution_count": null,
   "metadata": {},
   "outputs": [],
   "source": [
    "%load  readFile_PlotData/readCSV_1"
   ]
  },
  {
   "cell_type": "markdown",
   "metadata": {},
   "source": [
    "And this is how you can import a Python file *.py as a **module**:"
   ]
  },
  {
   "cell_type": "code",
   "execution_count": null,
   "metadata": {},
   "outputs": [],
   "source": [
    "import sys\n",
    "sys.path.append(\"./readFile_PlotData\")\n",
    "from readCSV_31 import read_plot_CSV"
   ]
  },
  {
   "cell_type": "code",
   "execution_count": null,
   "metadata": {},
   "outputs": [],
   "source": [
    "read_plot_CSV(\"./readFile_PlotData\" + \"/data.csv\")"
   ]
  },
  {
   "cell_type": "markdown",
   "metadata": {},
   "source": [
    "## 7/ Elementary tree manipulation: `os` and `os.path` modules\n",
    "\n",
    "The `os` and `os.path` modules contain many functions dedicated to manipulating files and\n",
    "directories (also called folders).<br>\n",
    "In the table below `<path>` is a string giving the (relative or absolute) path of a file or directory:<br>\n",
    "\n",
    "|`os` function | comment|\n",
    "|--------------|--------|\n",
    "|<span style=\"color:chocolate\">os.getcwd()</span> | returns the absolute path of the current working directory |\n",
    "|<span style=\"color:chocolate\">os.chdir(<span style=\"color:green\">*path*</span>)</span> | changes the *current directory* to <span style=\"color:green\">*path*</span>|\n",
    "|<span style=\"color:chocolate\">os.mkdir(<span style=\"color:green\">*path*</span>)</span> | makes the new directory <span style=\"color:green\">*path*</span>|\n",
    "|<span style=\"color:chocolate\">os.lisdir(<span style=\"color:green\">*path*</span>)</span> | lists the files and directory in <span style=\"color:green\">*path*</span>|\n",
    "|<span style=\"color:chocolate\">os.path.isdir(<span style=\"color:green\">*path*</span>)</span> | tests if <span style=\"color:green\">*path*</span> is a directory|\n",
    "|<span style=\"color:chocolate\">os.path.isfile(<span style=\"color:green\">*path*</span>)</span> | tests if <span style=\"color:green\">*path*</span> is a file|\n",
    "|<span style=\"color:chocolate\">os.path.basename(<span style=\"color:green\">*path*</span>)</span> | returns the last part (directory or file) in <span style=\"color:green\">*path*</span>|\n",
    "|<span style=\"color:chocolate\">os.path.dirname(<span style=\"color:green\">*path*</span>)</span> | returns the part *acces path* to the file or directory <span style=\"color:green\">*path*</span>|\n",
    "|<span style=\"color:chocolate\">os.path.split(<span style=\"color:green\">*path*</span>)</span> | returns the tuple (dirname, basename) from <span style=\"color:green\">*path*</span>|\n",
    "|<span style=\"color:chocolate\">os.path.join(<span style=\"color:green\">*p1*</span>, <span style=\"color:green\">*p2*</span>...)</span> | concatenates <span style=\"color:green\">*p1*</span>, <span style=\"color:green\">*p2*</span>... with the separator `/`|\n",
    "\n",
    "Tips & trics:\n",
    "- The character <span style=\"color:green\">\"/\"</span> can be used as a separator of directory names for any operating system.\n",
    "- The *current directory* can be designated by the shortcut <span style=\"color:green\">\".\"</span>&nbsp;, the *parent directory* by the shortcut <span style=\"color:green\">\"..\"</span>&nbsp;.\n",
    "- If you want to use a path copied from the Windows file browser that looks like `C:\\Users\\xxxx\\yyyy\\...`, you must neutralize the **back slash** meta-character by prefixing the string with the character \"r\" (raw) : `my_path=r\"\\C:\\Users\\xxxx\\yyyy\\...\"`."
   ]
  },
  {
   "cell_type": "code",
   "execution_count": null,
   "metadata": {},
   "outputs": [],
   "source": [
    "import os"
   ]
  },
  {
   "cell_type": "markdown",
   "metadata": {},
   "source": [
    "##### <span style=\"color:#0060B0\">Current Working Directory:</span>"
   ]
  },
  {
   "cell_type": "code",
   "execution_count": null,
   "metadata": {},
   "outputs": [],
   "source": [
    "os.getcwd()"
   ]
  },
  {
   "cell_type": "markdown",
   "metadata": {},
   "source": [
    "##### <span style=\"color:#0060B0\">Content of the current directory</span>"
   ]
  },
  {
   "cell_type": "code",
   "execution_count": null,
   "metadata": {},
   "outputs": [],
   "source": [
    "os.listdir()"
   ]
  },
  {
   "cell_type": "code",
   "execution_count": null,
   "metadata": {},
   "outputs": [],
   "source": [
    "os.listdir(\".\")"
   ]
  },
  {
   "cell_type": "markdown",
   "metadata": {},
   "source": [
    "##### <span style=\"color:#0060B0\">Content of the parent directory:</span>"
   ]
  },
  {
   "cell_type": "code",
   "execution_count": null,
   "metadata": {},
   "outputs": [],
   "source": [
    "os.listdir(\"..\")"
   ]
  },
  {
   "cell_type": "code",
   "execution_count": null,
   "metadata": {},
   "outputs": [],
   "source": [
    "os.listdir(\"../..\")"
   ]
  },
  {
   "cell_type": "markdown",
   "metadata": {},
   "source": [
    "##### <span style=\"color:#0060B0\">Content of the `data` directory:</span>"
   ]
  },
  {
   "cell_type": "code",
   "execution_count": null,
   "metadata": {},
   "outputs": [],
   "source": [
    "os.listdir(\"data\")"
   ]
  },
  {
   "cell_type": "markdown",
   "metadata": {},
   "source": [
    "##### <span style=\"color:#0060B0\">Fucntion of `os.path`</span>"
   ]
  },
  {
   "cell_type": "code",
   "execution_count": null,
   "metadata": {},
   "outputs": [],
   "source": [
    "os.path.isfile('data/data.txt')"
   ]
  },
  {
   "cell_type": "code",
   "execution_count": null,
   "metadata": {},
   "outputs": [],
   "source": [
    "os.path.isdir('data/data.txt')"
   ]
  },
  {
   "cell_type": "code",
   "execution_count": null,
   "metadata": {},
   "outputs": [],
   "source": [
    "os.path.exists('data/aaaaaaaaaaaaaaaaaaaaaa.txt')"
   ]
  },
  {
   "cell_type": "code",
   "execution_count": null,
   "metadata": {},
   "outputs": [],
   "source": [
    "os.path.isfile('data/directory')"
   ]
  },
  {
   "cell_type": "code",
   "execution_count": null,
   "metadata": {},
   "outputs": [],
   "source": [
    "os.path.isdir('data/directory1')"
   ]
  },
  {
   "cell_type": "markdown",
   "metadata": {},
   "source": [
    "### Exercice 12 $–$ File/directory sorting\n",
    "\n",
    "- Display the name of your current working directory.\n",
    "- Display the list comprehension of the files and the list comprehension of the directories contained in the <span style=\"color:green\">data</span> directory."
   ]
  },
  {
   "cell_type": "code",
   "execution_count": null,
   "metadata": {},
   "outputs": [],
   "source": [
    "print(\"current working directory:\",os.getcwd())"
   ]
  },
  {
   "cell_type": "code",
   "execution_count": null,
   "metadata": {},
   "outputs": [],
   "source": [
    "files = [f for f in os.listdir('data') if os.path.isfile(os.path.join('data', f))]\n",
    "print(\"Files:\", files)"
   ]
  },
  {
   "cell_type": "code",
   "execution_count": null,
   "metadata": {},
   "outputs": [],
   "source": [
    "dirs = [f for f in os.listdir('data') if os.path.isdir(os.path.join('data', f))]\n",
    "print(\"Directories:\", dirs)"
   ]
  },
  {
   "cell_type": "markdown",
   "metadata": {},
   "source": [
    "## 8/ Reading image files\n",
    "\n",
    "There are several modules for reading an image [with_pixels $\\times$ height_pixels] from a **PNG file** that return a  **ndarray** `(height × width × 3 or 4)`.<br>\n",
    "The `T[i,j]` element of `T` is an array of 3 pixels (Red, Green, Blue) and possibly a fourth one for the opacity.<br>\n",
    "\n",
    "- The **imread** function of the **imageio** module returns an array of integers in the range [0; 255] (one-byte encoding).\n",
    "- The **imread** function of the **matplotlib.pyplot** module returns array of floats in the range [0.; 1.]<br>\n",
    "- For diplaying an image one can use the **matplotlib.pyplot.imshow** funtion."
   ]
  },
  {
   "cell_type": "markdown",
   "metadata": {},
   "source": [
    "### Exercice 13 $–$ Simple image reading and manipulation\n",
    "\n",
    "- Import the `matplotlib.pyplot` module with the alias `plt`.\n",
    "- Using the two **imread** functions above, create the arrays `TI` of integers and `TF` of floats by\n",
    "reading the image <span style=\"color:green\">pinglinux.png</span> in the <span style=\"color:green\">data</span> directory.\n",
    "- Compare their shape and data type. \n",
    "- Display the images from the arrays `TI` and `TF`."
   ]
  },
  {
   "cell_type": "code",
   "execution_count": null,
   "metadata": {},
   "outputs": [],
   "source": [
    "import matplotlib.pyplot as plt"
   ]
  },
  {
   "cell_type": "code",
   "execution_count": null,
   "metadata": {},
   "outputs": [],
   "source": []
  },
  {
   "cell_type": "markdown",
   "metadata": {},
   "source": [
    "The two plots in the same figure with the `subplots` function:"
   ]
  },
  {
   "cell_type": "code",
   "execution_count": null,
   "metadata": {},
   "outputs": [],
   "source": [
    "# using matplotlib with the object oriented style:\n",
    "fig, axes = plt.subplots(1,2)\n",
    "axes[0].imshow(TI)\n",
    "axes[1].imshow(TF);\n",
    "axes[0].set_facecolor((0.8,1,0.8))\n",
    "axes[1].set_facecolor((1,0.8,0.8))"
   ]
  },
  {
   "cell_type": "markdown",
   "metadata": {},
   "source": [
    "- Observe and explain the images corresponding to `TI[::-1,:,:]`, `TI[:,::-1,:]` and `TI[:,:,;::-1]`:"
   ]
  },
  {
   "cell_type": "code",
   "execution_count": null,
   "metadata": {},
   "outputs": [],
   "source": [
    "plt.title(\"TI[::-1,:,:] -> reversing the lines\\n\", size=16)\n",
    "plt.imshow(TI[::-1,:,:])"
   ]
  },
  {
   "cell_type": "code",
   "execution_count": null,
   "metadata": {},
   "outputs": [],
   "source": [
    "plt.title(\"TI[:,::-1,:] -> reversing the columns\\n\", size=16)\n",
    "plt.imshow(TI[:,::-1,:],interpolation=\"none\")"
   ]
  },
  {
   "cell_type": "code",
   "execution_count": null,
   "metadata": {},
   "outputs": [],
   "source": [
    "plt.title(\"TI[:,:,::-1] -> reversing colors\\n\", size=16)\n",
    "plt.imshow(TI[:,:,::-1])"
   ]
  },
  {
   "cell_type": "code",
   "execution_count": null,
   "metadata": {},
   "outputs": [],
   "source": []
  }
 ],
 "metadata": {
  "kernelspec": {
   "display_name": "Python 3",
   "language": "python",
   "name": "python3"
  },
  "language_info": {
   "codemirror_mode": {
    "name": "ipython",
    "version": 3
   },
   "file_extension": ".py",
   "mimetype": "text/x-python",
   "name": "python",
   "nbconvert_exporter": "python",
   "pygments_lexer": "ipython3",
   "version": "3.6.12"
  }
 },
 "nbformat": 4,
 "nbformat_minor": 4
}
