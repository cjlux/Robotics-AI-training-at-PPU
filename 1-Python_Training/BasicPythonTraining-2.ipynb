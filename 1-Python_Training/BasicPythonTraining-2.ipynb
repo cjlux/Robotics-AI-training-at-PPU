{
 "cells": [
  {
   "cell_type": "markdown",
   "metadata": {},
   "source": [
    "<span style=\"font-size:8pt\"><i>ENSAM-Bordeaux, Mathématiques et informatique. Date : le 14/09/20. Auteurs : Éric Ducasse & Jean-Luc Charles. Version : 1.11</i></span>"
   ]
  },
  {
   "cell_type": "markdown",
   "metadata": {},
   "source": [
    "<div class=\"alert alert-block alert-danger\"> <span style=\"color:#800000\"> <b>On pourra faire exécuter ce notebook cellule par cellule $\\left(\\mathtt{Maj+Entrée}\\right)$ ou intégralement par $\\mathtt{\\;Kernel\\rightarrow Restart\\;\\&\\;Run\\;All}$.</b> </span> </div>"
   ]
  },
  {
   "cell_type": "markdown",
   "metadata": {},
   "source": [
    "# Les bases Python 3 : séance n°2"
   ]
  },
  {
   "cell_type": "code",
   "execution_count": 1,
   "metadata": {},
   "outputs": [],
   "source": [
    "%matplotlib inline"
   ]
  },
  {
   "cell_type": "markdown",
   "metadata": {},
   "source": [
    "## 4/ Conversion liste ↔ tableau ndarray\n",
    "Les objets de type <span style=\"color:green\">list</span> sont très adaptés à la collecte de données, mais on ne peut pas les utiliser pour faire des **calculs avancés**.<br />\n",
    "=> Il **faut** savoir convertir les objets <span style=\"color:green\">list</span> en tableaux \n",
    "<span style=\"color:green\">numpy.ndarray</span> et réciproquement :<br />\n",
    "`M = numpy.array(L)` convertit la liste `L` en un tableau multidimensionnel `M` \n",
    "(voir la fonction [array](https://docs.scipy.org/doc/numpy/reference/generated/numpy.array.html) du module numpy)<br />\n",
    "`L = M.tolist()` convertit le tableau `M` en un objet `L` de type list \n",
    "(voir la méthode [numpy.ndarray.tolist](https://docs.scipy.org/doc/numpy/reference/generated/numpy.ndarray.tolist.html)).\n"
   ]
  },
  {
   "cell_type": "markdown",
   "metadata": {},
   "source": [
    "### Exercice 8 $–$ Conversions liste ↔ vecteur\n",
    "- Définir en compréhension la liste `L1` des carrés des entiers de 1 à 9.<br />\n",
    "Définir et faire afficher `V1`, la conversion de `L1` en objet de type <span style=\"color:green\">numpy.ndarray</span>.<br />\n",
    "Faire afficher le type de `V1` et ses attributs \n",
    "<span style=\"color:green\">dtype</span>, \n",
    "<span style=\"color:green\">shape</span>, \n",
    "<span style=\"color:green\">ndim</span>, \n",
    "<span style=\"color:green\">size</span>, \n",
    "<span style=\"color:green\">itemsize</span> et \n",
    "<span style=\"color:green\">nbytes</span>.\n",
    "- Définir et faire afficher `V2`, la conversion de `L1` en un \n",
    "<span style=\"color:green\">ndarray</span> d'entiers, obtenu en passant l'argument supplémentaire \n",
    "<span style=\"color:brown\">dtype=</span><span style=\"color:green\">\"uint8\"</span>\n",
    "à la fonction `array`. Fairre afficher `V2.itemsize`.<br />\n",
    "Observer la différence entre la sortie de `print(V2)` et `print(repr(V2))`.\n",
    "- Définir **sans boucle explicite** le vecteur `V3`, tel que pour tout $i$ : \n",
    "$V3[i]\\,=\\,\\sqrt{V2[i]}\\,\\cos(V2[i]\\,\\pi/20)$.<br />\n",
    "Afficher `V3` et ses attributs \n",
    "<span style=\"color:green\">shape</span>, \n",
    "<span style=\"color:green\">ndim</span> et \n",
    "<span style=\"color:green\">size</span>.\n",
    "- Modifier `V3` avec l’instruction `V3.shape = (3,3)` : afficher de nouveau `V3` et ses attributs \n",
    "<span style=\"color:green\">shape</span>, \n",
    "<span style=\"color:green\">ndim</span> et \n",
    "<span style=\"color:green\">size</span> ; observer ce qui a changé.\n",
    "- Convertir `V3` en une liste `L3` avec la méthode <span style=\"color:green\">tolist</span>. Faire afficher `L3`."
   ]
  },
  {
   "cell_type": "code",
   "execution_count": null,
   "metadata": {},
   "outputs": [],
   "source": []
  },
  {
   "cell_type": "code",
   "execution_count": null,
   "metadata": {},
   "outputs": [],
   "source": []
  },
  {
   "cell_type": "code",
   "execution_count": null,
   "metadata": {},
   "outputs": [],
   "source": []
  },
  {
   "cell_type": "code",
   "execution_count": null,
   "metadata": {},
   "outputs": [],
   "source": []
  },
  {
   "cell_type": "code",
   "execution_count": null,
   "metadata": {},
   "outputs": [],
   "source": []
  },
  {
   "cell_type": "code",
   "execution_count": null,
   "metadata": {},
   "outputs": [],
   "source": []
  },
  {
   "cell_type": "markdown",
   "metadata": {},
   "source": [
    "### Exercice 9 $–$ Conversions listes ↔ matrice\n",
    "- Observer dans le shell le résultat des deux instructions :<br />\n",
    "`[10*i+j for i in range(1,4) for j in range(1,4)]` <br />\n",
    "`[[10*i+j for j in range(1,4)] for i in range(1,4)]`.\n",
    "- En déduire deux façons différentes de définir la matrice `M` de terme général $M_{i,\\,j}=j^{\\,i}$ avec $(i,j) \\in [1;5]\\times[1;5]$ à partir de listes définies en compréhension puis converties en <span style=\"color:green\">ndarray</span> ."
   ]
  },
  {
   "cell_type": "code",
   "execution_count": null,
   "metadata": {},
   "outputs": [],
   "source": []
  },
  {
   "cell_type": "code",
   "execution_count": null,
   "metadata": {},
   "outputs": [],
   "source": []
  },
  {
   "cell_type": "markdown",
   "metadata": {},
   "source": [
    "## 5/ Lecture des fichiers ASCII $-$ Encodage\n",
    "Les fichiers ASCII sont lus avec la primitive <span style=\"color:green\">open</span> qui renvoie un objet itérable de type </span><span style=\"color:green\">TextIOWrapper</span> :<br />\n",
    "    **<span style=\"font-family:courier\">\n",
    "<span style=\"color:#B08000\">with</span> <span style=\"color:#800080\">open</span>( <span style=\"color:#808080\">< chemin du fichier ></span>, <span style=\"color:#008000\">\"r\"</span>, encoding=<span style=\"color:#808080\">< spécification d’encodage ></span>)<span style=\"color:#B08000\"> as</span> F :<br />\n",
    "    <span style=\"color:white\">____</span>...</p> </span>**<br />\n",
    "    \n",
    "La lecture des caractères accentués nécessite la spécification de leur **encodage** pour une interprétation correcte. Les encodages les plus courants sont **utf8** (encodage par défaut de Mac OS X, GNU/Linux) et **cp1252** ou **iso8859-15** (encodage par défaut des Windows).<br /> \n",
    "\n",
    "L'utilisation d'un bloc **<span style=\"font-family:courier;color:#B08000\">with</span>** permet de fermer automatiquement le fichier dès que l'on sort du bloc."
   ]
  },
  {
   "cell_type": "markdown",
   "metadata": {},
   "source": [
    "### Exercice 10 $–$ Lecture globale d’un fichier ASCII, décodage des caractères accentués\n",
    "- Lire le fichier `accents.txt` (présent dans le répertoire `sources`) dans une chaîne de caractères avec la méthode </span><span style=\"color:green\">read</span>, en précisant **cp1252** comme encodage, puis faire afficher la chaîne obtenue.\n",
    "- Même travail en précisant cette fois **utf8** comme encodage."
   ]
  },
  {
   "cell_type": "code",
   "execution_count": 2,
   "metadata": {},
   "outputs": [],
   "source": [
    "# lecture du  fichier data.txt avec read :\n"
   ]
  },
  {
   "cell_type": "code",
   "execution_count": 3,
   "metadata": {},
   "outputs": [],
   "source": [
    "# lecture du fichier data.txt avec read :\n"
   ]
  },
  {
   "cell_type": "markdown",
   "metadata": {},
   "source": [
    "### Exercice 11 $–$ Lecture d’un fichier ASCII ligne par ligne\n",
    "Lire le fichier `data.txt` (présent dans le répertoire `sources`) avec la méthode <span style=\"color:green\">readlines</span> et faire afficher ses lignes.\n",
    "\n",
    "Éliminer les lignes qui sont des commentaires (commençant par `#`)."
   ]
  },
  {
   "cell_type": "code",
   "execution_count": 4,
   "metadata": {},
   "outputs": [],
   "source": [
    "# lecture du fichier data.txt avec readlines :\n"
   ]
  },
  {
   "cell_type": "code",
   "execution_count": 5,
   "metadata": {},
   "outputs": [],
   "source": [
    "# lecture des lignes du fichier data.txt qui ne sont pas des commentaires\n",
    "# avec une boucle en compréhension:\n"
   ]
  },
  {
   "cell_type": "markdown",
   "metadata": {},
   "source": [
    "### Exercice 12 – Traitement des données d’un fichier ASCII\n",
    "- Lire le fichier `data.txt` ligne par ligne : certaines lignes contiennent des données représentant trois nombres, d’autres sont des lignes de commentaires. Chaque lecture d’une ligne de données permet de définir en compréhension une liste de trois nombres, à ajouter aux données numériques déjà lues (liste de listes).\n",
    "- Convertir les données lues en tableau <span style=\"color:green\">numpy.ndarray</span> (3 colonnes) ; faire afficher le tableau, puis chacune de ses 3 colonnes."
   ]
  },
  {
   "cell_type": "code",
   "execution_count": null,
   "metadata": {},
   "outputs": [],
   "source": []
  },
  {
   "cell_type": "code",
   "execution_count": null,
   "metadata": {},
   "outputs": [],
   "source": []
  },
  {
   "cell_type": "markdown",
   "metadata": {},
   "source": [
    "## 6/ Manipulation de l’arborescence : modules os et os.path\n",
    "Les modules `os` et `os.path` contiennent de nombreuses fonctions dédiées à la manipulation des fichiers et\n",
    "des répertoires (aussi appelés dossiers). Dans le tableau ci-dessous `<path>` est une chaîne de caractères\n",
    "donnant le chemin (relatif ou absolu) d’un fichier ou d’un répertoire :<br />\n",
    "\n",
    "<img  src=\"images/module-os.png\" style=\"height:230px;width:700px\" align=\"left\"/>\n",
    "<br /><br /><br /><br /><br /><br /><br /><br /><br /><br /><br /><br />\n",
    "Remarques utiles :\n",
    "- le caractère <span style=\"color:green\">\"/\"</span> peut être utilisé comme séparateur de noms de répertoires pour tout système d’exploitation,\n",
    "- le répertoire courant peut être désigné par le raccourci <span style=\"color:green\">\".\"</span>, le répertoire père par le raccourci <span style=\"color:green\">\"..\"</span>."
   ]
  },
  {
   "cell_type": "markdown",
   "metadata": {},
   "source": [
    "### Exercice 13 $–$ Arborescence des fichiers\n",
    "\n",
    "Mettre en œuvre les fonctions des modules `os` et `os.path` présentées ci-dessus, en utilisant par exemple pour `<path>` : <span style=\"color:green\">\".\"</span> (le répertoire courant), <span style=\"color:green\">\"..\"</span> (le répertoire père), le répertoire *<span style=\"color:blue\">sources</span>* ou des fichiers/répertoires du répertoire *<span style=\"color:blue\">sources</span>*."
   ]
  },
  {
   "cell_type": "code",
   "execution_count": null,
   "metadata": {},
   "outputs": [],
   "source": []
  },
  {
   "cell_type": "markdown",
   "metadata": {},
   "source": [
    "### Exercice 14 $–$ Tri fichiers/répertoires\n",
    "- Faire afficher le nom absolu du répertoire courant.\n",
    "- Faire afficher la liste des fichiers et la liste des répertoires contenus dans le répertoire *<span style=\"color:blue\">sources</span>*."
   ]
  },
  {
   "cell_type": "code",
   "execution_count": null,
   "metadata": {},
   "outputs": [],
   "source": []
  },
  {
   "cell_type": "markdown",
   "metadata": {},
   "source": [
    "### Exercice 15 $–$ Contenu complet d’un répertoire avec os.walk\n",
    "- Observer les éléments contenus dans la liste `list(os.walk(<rep>))` où `<rep>` sera remplacé par le\n",
    "nom du répertoire *<span style=\"color:blue\">sources</span>*.\n",
    "- En déduire une façon d’obtenir la liste des chemins de tous les fichiers contenus dans le répertoire \n",
    "*<span style=\"color:blue\">sources</span>* (et l'ensemble de ses sous-répertoires)."
   ]
  },
  {
   "cell_type": "code",
   "execution_count": null,
   "metadata": {},
   "outputs": [],
   "source": []
  },
  {
   "cell_type": "markdown",
   "metadata": {},
   "source": [
    "## 7/ Lecture des fichiers images\n",
    "Il existe plusieurs modules qui permettent de lire directement un **fichier\n",
    "image au format PNG** et de récupérer un tableau `T (nL × nC × 4)` de type\n",
    "`numpy.ndarray`.<br />\n",
    "\n",
    "L’élément  `T[i,j]` du tableau `T` est un pixel décrit par 4 niveaux Red, Green,\n",
    "Blue, Alpha (opacité).<br />\n",
    "\n",
    "La fonction **imread** du module **imageio** renvoie un tableau d’entiers entre\n",
    "0 et 255 (codage sur un octet), <br /> ce qui correspond au « vrai » codage de l’image,\n",
    "alors que la fonction **imread** du module **matplotlib.pyplot** <br /> fait une conversion supplémentaire en flottants compris entre 0 et 1.<br />\n",
    "\n",
    "Pour l’affichage de l’image, on peut utiliser **matplotlib.pyplot.imshow**."
   ]
  },
  {
   "cell_type": "code",
   "execution_count": 6,
   "metadata": {},
   "outputs": [],
   "source": [
    "# Pour les ordinateurs de l'école sous Windows 7\n",
    "try :\n",
    "    from imageio import imread\n",
    "except Exception as e :\n",
    "    print(\"Version trop ancienne de Python :\",e)\n",
    "    from scipy.misc import imread"
   ]
  },
  {
   "cell_type": "markdown",
   "metadata": {},
   "source": [
    "### Exercice 16 $–$ Lecture et manipulations simples d’images\n",
    "- En utilisant les deux fonctions **imread** ci-dessus, créer les tableaux `TI` d’entiers et `TF` de flottants par\n",
    "lecture de la même image *<span style=\"color:blue\">pinglinux.png</span>* se trouvant dans le répertoire \n",
    "*<span style=\"color:blue\">sources</span>*.\n",
    "- Comparer leurs formes et le type de leur contenu. Que renvoie l'instruction `numpy.allclose(TI,255*TF)`, pourquoi  ?"
   ]
  },
  {
   "cell_type": "code",
   "execution_count": null,
   "metadata": {},
   "outputs": [],
   "source": []
  },
  {
   "cell_type": "code",
   "execution_count": null,
   "metadata": {},
   "outputs": [],
   "source": []
  },
  {
   "cell_type": "code",
   "execution_count": null,
   "metadata": {},
   "outputs": [],
   "source": []
  },
  {
   "cell_type": "markdown",
   "metadata": {},
   "source": [
    "##### Vérification visuelle  :"
   ]
  },
  {
   "cell_type": "code",
   "execution_count": 7,
   "metadata": {},
   "outputs": [
    {
     "ename": "NameError",
     "evalue": "name 'plt' is not defined",
     "output_type": "error",
     "traceback": [
      "\u001b[1;31m---------------------------------------------------------------------------\u001b[0m",
      "\u001b[1;31mNameError\u001b[0m                                 Traceback (most recent call last)",
      "\u001b[1;32m<ipython-input-7-f701b0e52207>\u001b[0m in \u001b[0;36m<module>\u001b[1;34m()\u001b[0m\n\u001b[1;32m----> 1\u001b[1;33m \u001b[0maxi\u001b[0m \u001b[1;33m=\u001b[0m \u001b[0mplt\u001b[0m\u001b[1;33m.\u001b[0m\u001b[0msubplot\u001b[0m\u001b[1;33m(\u001b[0m\u001b[1;36m1\u001b[0m\u001b[1;33m,\u001b[0m\u001b[1;36m2\u001b[0m\u001b[1;33m,\u001b[0m\u001b[1;36m1\u001b[0m\u001b[1;33m)\u001b[0m\u001b[1;33m\u001b[0m\u001b[0m\n\u001b[0m\u001b[0;32m      2\u001b[0m \u001b[0maxi\u001b[0m\u001b[1;33m.\u001b[0m\u001b[0mset_facecolor\u001b[0m\u001b[1;33m(\u001b[0m \u001b[1;33m(\u001b[0m\u001b[1;36m0.8\u001b[0m\u001b[1;33m,\u001b[0m\u001b[1;36m1\u001b[0m\u001b[1;33m,\u001b[0m\u001b[1;36m0.8\u001b[0m\u001b[1;33m)\u001b[0m \u001b[1;33m)\u001b[0m\u001b[1;33m\u001b[0m\u001b[0m\n\u001b[0;32m      3\u001b[0m \u001b[0maxi\u001b[0m\u001b[1;33m.\u001b[0m\u001b[0mimshow\u001b[0m\u001b[1;33m(\u001b[0m \u001b[0mTI\u001b[0m \u001b[1;33m,\u001b[0m\u001b[0minterpolation\u001b[0m\u001b[1;33m=\u001b[0m\u001b[1;34m'none'\u001b[0m\u001b[1;33m)\u001b[0m\u001b[1;33m\u001b[0m\u001b[0m\n\u001b[0;32m      4\u001b[0m \u001b[0maxf\u001b[0m \u001b[1;33m=\u001b[0m \u001b[0mplt\u001b[0m\u001b[1;33m.\u001b[0m\u001b[0msubplot\u001b[0m\u001b[1;33m(\u001b[0m\u001b[1;36m1\u001b[0m\u001b[1;33m,\u001b[0m\u001b[1;36m2\u001b[0m\u001b[1;33m,\u001b[0m\u001b[1;36m2\u001b[0m\u001b[1;33m)\u001b[0m\u001b[1;33m\u001b[0m\u001b[0m\n\u001b[0;32m      5\u001b[0m \u001b[0maxf\u001b[0m\u001b[1;33m.\u001b[0m\u001b[0mset_facecolor\u001b[0m\u001b[1;33m(\u001b[0m \u001b[1;33m(\u001b[0m\u001b[1;36m1\u001b[0m\u001b[1;33m,\u001b[0m\u001b[1;36m0.8\u001b[0m\u001b[1;33m,\u001b[0m\u001b[1;36m1\u001b[0m\u001b[1;33m)\u001b[0m \u001b[1;33m)\u001b[0m\u001b[1;33m\u001b[0m\u001b[0m\n",
      "\u001b[1;31mNameError\u001b[0m: name 'plt' is not defined"
     ]
    }
   ],
   "source": [
    "axi = plt.subplot(1,2,1)\n",
    "axi.set_facecolor( (0.8,1,0.8) )\n",
    "axi.imshow( TI ,interpolation='none')\n",
    "axf = plt.subplot(1,2,2)\n",
    "axf.set_facecolor( (1,0.8,1) )\n",
    "axf.imshow(TF,interpolation='none')\n",
    "plt.show()"
   ]
  },
  {
   "cell_type": "markdown",
   "metadata": {},
   "source": [
    "- Observer et expliquer les images correspondant à `TI[::-1,:,:]`, `TI[:,::-1,:]` et  `TI[:,:,::-1]` :"
   ]
  },
  {
   "cell_type": "code",
   "execution_count": null,
   "metadata": {},
   "outputs": [],
   "source": []
  },
  {
   "cell_type": "markdown",
   "metadata": {},
   "source": [
    "- Observer et expliquer les images correspondant à TC après chacune des instructions suivantes :\n",
    "```Python\n",
    "TC = TI.copy() # Copie du tableau TI\n",
    "TC[:10 ,: ,:] = [255 ,0 ,0 ,255]\n",
    "TC[::20 ,:: ,3].fill(0)\n",
    "TC[:: ,::30 ,3].fill(255)\n",
    "```"
   ]
  },
  {
   "cell_type": "code",
   "execution_count": null,
   "metadata": {},
   "outputs": [],
   "source": []
  },
  {
   "cell_type": "markdown",
   "metadata": {},
   "source": [
    "## 8/ Tracé de courbes : modules matplolib\n",
    "Le module **matplotlib.pyplot** permet d’effectuer le tracé de courbes 2D, 3D et autre.... voir la gallerie sur le site [matplotlib.org/gallery.html](https://matplotlib.org/gallery.html).\n",
    "\n",
    "**Tutoriels** :<br />\n",
    "- sur le site de matplotlib : http://matplotlib.org/users/tutorials.html <br />\n",
    "- au laboratoire LABRI : http://www.labri.fr/perso/nrougier/teaching/matplotlib/ <br />\n",
    "- sur le site SAVOIR"
   ]
  },
  {
   "cell_type": "markdown",
   "metadata": {},
   "source": [
    "### Exercice 17 $–$ Exemple matplotlib.pyplot\n",
    "La cellule ci-dessous contient le code du fichier *<span style=\"color:blue\">traceCourbes.py</span>* présent dans le répertoire *<span style=\"color:blue\">sources</span>* et jouer avec. L'éxécution de ce code donne le graphique :\n",
    "\n",
    "<img  src=\"images/traceCourbes.png\" style=\"height:260px;width:800px\" align=\"left\"/>\n",
    "<br /><br /><br /><br /><br /><br /><br /><br /><br /><br /><br /><br /><br />\n",
    "À noter en particulier les instructions :\n",
    "- <span style=\"color:brown\">plt.twinx()</span> : active un deuxième système d’axes, avec un axe des ordonnées à droite du tracé,\n",
    "- <span style=\"color:brown\">plt.subplot(L,C,N)</span> : active le tracé numéro n dans une grille de tracés à L lignes et C colonnes."
   ]
  },
  {
   "cell_type": "code",
   "execution_count": null,
   "metadata": {},
   "outputs": [],
   "source": [
    "import matplotlib.pyplot as plt\n",
    "import numpy as np\n",
    "from math import cos, sin, pi\n",
    "\n",
    "X  = np.linspace(0,10,500)\n",
    "Y1 = 10*np.exp(-(X-8)**2)\n",
    "Y2 = np.cos(3*pi*X)*np.exp(-X/2)\n",
    "\n",
    "plt.figure(\"Tracé de courbe avec matplotlib.pyplot\", figsize = (12,5))\n",
    "# ajustement des espaces :\n",
    "plt.subplots_adjust(left=0.05, right=0.95, wspace=0.25)   \n",
    "\n",
    "plt.subplot(1,2,1)  # 1 ligne, 2 subplots par ligne : subplot n° 1\n",
    "deltaX = abs(X.max()-X.min())\n",
    "plt.xlim(X.min()-0.01*deltaX, X.max()+0.01*deltaX)\n",
    "ymax = max(abs(Y2.min()), abs(Y2.max()))\n",
    "plt.ylim(-1.1*ymax, 1.1*ymax)\n",
    "plt.ylabel(\"Axe Y1\", color=\"g\")\n",
    "p1 = plt.plot(X, Y2, \"g-\", linewidth=2, label=r\"$\\cos(2\\pi x)e^{-x/2}$\")\n",
    "plt.grid()\n",
    "\n",
    "# activation du deuxième système d'axes (X,Y2) :\n",
    "plt.twinx()\n",
    "plt.title(\"SubPlot 1 : deux tracés dans les systèmes d'axes (X,Y1) et (X,Y2)\")\n",
    "deltaY1 = abs(Y1.max()-Y1.min())\n",
    "plt.ylim(Y1.min()-0.05*deltaY1, Y1.max()+0.05*deltaY1)\n",
    "p2 = plt.plot(X,Y1,\"b-\",linewidth=2,label=\"$10\\,e^{-(x - 8)^2}$\")\n",
    "plt.xlabel(\"x (abcisse commune)\")\n",
    "plt.ylabel(\"Axe Y2\", color=\"b\")\n",
    "\n",
    "# une seule  boite de légende pour les deux courbes\n",
    "p12 = p1+p2\n",
    "labels = [L.get_label() for L in p12]\n",
    "plt.legend(p12, labels, loc=\"upper center\", fontsize=16)\n",
    "\n",
    "plt.subplot(1,2,2)  # 1 ligne, 2 subplots par ligne : subplot n° 2\n",
    "plt.title(\"SubPlot 2 : courbe paramétrée\")\n",
    "A = np.linspace(0, pi, 300)\n",
    "X = (np.sin(5*A)-3*np.cos(A))*np.cos(A)\n",
    "Y = (np.sin(5*A)-3*np.cos(A))*np.sin(A)\n",
    "plt.plot( X, Y, \"m-\", linewidth=4);\n",
    "plt.plot(-X, Y, \"m-\", linewidth=4, label=\"Papillon\")\n",
    "plt.axis(\"equal\");\n",
    "plt.legend()\n",
    "plt.grid();\n",
    "\n",
    "plt.savefig(\"traceCourbes.png\")\n",
    "plt.show()"
   ]
  },
  {
   "cell_type": "markdown",
   "metadata": {},
   "source": [
    "## 8/ Techniques de programmation\n",
    "Parmi les nombreuses techniques de programmation enseignées en génie logiciel, deux techniques doivent être\n",
    "comprises et utilisées dans le cadre de l’unité d’enseignement *Mathématique et informatique* :\n",
    "- la gestion des **exceptions**, avec les mots-clefs <span style=\"color:green;font-weight:bold\">try</span> et \n",
    "<span style=\"color:green;font-weight:bold\">except</span>,\n",
    "- l’intégration des **tests unitaires** dans les fichiers Python et la façon de les exclure du mécanisme <span style=\"color:green;font-weight:bold\">import</span>.\n",
    "\n",
    "### 8.1/ Bloc try/except\n",
    "Le principe est d’écrire (dans l’ordre) :\n",
    "- un bloc <span style=\"color:green;font-weight:bold\">try</span> qui contient des instructions Python\n",
    "susceptibles d’échouer et donc de *lancer* des **exceptions** (se traduisant normalement par des <span style=\"color:red\">messages d’erreur en rouge</span> à l’écran...)\n",
    "- un bloc <span style=\"color:green;font-weight:bold\">except</span>, chargé d’*attraper* ces exceptions (si elles se produisent) et de faire un traitement approprié, qui peut se résumer à un simple affichage d’une message (print), suivi d’une sortie ou d’une continuation *propre* du programme.\n",
    "```Python\n",
    "#...\n",
    "try:\n",
    "    # bloc try\n",
    "    # ...\n",
    "except:\n",
    "    # bloc pour gérer les exceptions\n",
    "    #...\n",
    "```    "
   ]
  },
  {
   "cell_type": "markdown",
   "metadata": {},
   "source": [
    "### Exercice 18 $–$ Gestion des exceptions\n",
    "Reprendre l’exercice 12 en utilisant un <span style=\"color:green;font-weight:bold\">try/except</span> pour traiter les lignes de commentaires (pour le bloc <span style=\"color:green;font-weight:bold\">except</span>, on peut par\n",
    "exemple afficher les lignes de commentaires, après que leur conversion en une liste de trois <span style=\"color:green\">float</span> ait échoué)."
   ]
  },
  {
   "cell_type": "markdown",
   "metadata": {},
   "source": [
    "###  8.2/ Tests unitaires (concerne l'écriture des fichiers .py)\n",
    "Le problème des tests unitaires intégrés dans un fichier Python importé comme un module est que ces\n",
    "tests sont exécutés (comme le reste du programme) par la primitive \n",
    "<span style=\"color:green;font-weight:bold\">import</span> : ceci n’est pas forcément le\n",
    "comportement recherché lorsqu’on utilise un fichier Python comme un module ! <br /><br />\n",
    "La solution consiste à exclure les tests unitaires de l’exécution grâce à un *bloc if* portant sur la valeur\n",
    "de l’objet prédéfini <span style=\"color:brown\">\\_\\_name\\_\\_</span> :\n",
    "\n",
    "**Exemple** avec le fichier *<span style=\"color:blue\">test.py</span>* contenant le code : \n",
    "```Python\n",
    "print(\"__name__ :\", __name__)\n",
    "```\n",
    "L’exécution de *<span style=\"color:blue\">test.py</span>* dans le shell Python affiche :<br />\n",
    "`__name__ : __main__`<br />\n",
    "car dans le contexte de l’exécution directe par un shell Python, `__name__` vaut \n",
    "<span style=\"color:brown\"> \"\\_\\_main\\_\\_\" </span>.\n",
    "\n",
    "L’exécution indirecte par <span style=\"color:green;font-weight:bold\">import</span> du module **test** (correspondant au fichier *<span style=\"color:blue\">test.py</span>*) dans le shell Python :\n",
    "```Python\n",
    ">>> import test\n",
    "__name__ : __test__ \n",
    "```\n",
    "car dans le contexte de l’exécution d’un module par la primitive \n",
    "<span style=\"color:green;font-weight:bold\">import</span>,\n",
    "`__name__` vaut le nom du module."
   ]
  },
  {
   "cell_type": "markdown",
   "metadata": {},
   "source": [
    "### Règle\n",
    "Il faut faut **encapsuler** dans un bloc <span style=\"color:green;font-weight:bold\">if</span> les tests unitaires d’un fichier Python destiné à ête importé :\n",
    "```Python\n",
    "if __name == \"__main__\":\n",
    "    # début du bloc de test unitaire encapsulé\n",
    "    # ...\n",
    "    # ...\n",
    "```    "
   ]
  }
 ],
 "metadata": {
  "kernelspec": {
   "display_name": "Python 3",
   "language": "python",
   "name": "python3"
  },
  "language_info": {
   "codemirror_mode": {
    "name": "ipython",
    "version": 3
   },
   "file_extension": ".py",
   "mimetype": "text/x-python",
   "name": "python",
   "nbconvert_exporter": "python",
   "pygments_lexer": "ipython3",
   "version": "3.6.12"
  }
 },
 "nbformat": 4,
 "nbformat_minor": 4
}
