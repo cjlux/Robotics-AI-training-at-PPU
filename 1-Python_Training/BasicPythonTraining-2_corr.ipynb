{
 "cells": [
  {
   "cell_type": "markdown",
   "metadata": {},
   "source": [
    "<span style=\"font-size:10pt\">Robotics & AI workshop @ PPU – June 2022 – Jean-Luc Charles (Jean-Luc.charles@ensam.eu) – CC BY-SA 4.0 – v1.0</span><span style=\"font-size:8pt\">*ENSAM-Bordeaux, Mathématiques et informatique. Date : le 10/02/20. Auteurs : Éric Ducasse & Jean-Luc Charles. Version : 1.1*</span>"
   ]
  },
  {
   "cell_type": "markdown",
   "metadata": {},
   "source": [
    "# Basic Python training: session 2"
   ]
  },
  {
   "cell_type": "code",
   "execution_count": null,
   "metadata": {},
   "outputs": [],
   "source": [
    "%matplotlib inline"
   ]
  },
  {
   "cell_type": "markdown",
   "metadata": {},
   "source": [
    "### **numpy** Internet links:\n",
    "- **numpy**  user-guide from numpy.org : [NumPy user guide](https://numpy.org/devdocs/user/index.html)\n",
    "- numpy tutorial from www.w3schools.com : [NumPy Tutorial](https://www.w3schools.com/python/numpy/default.asp)"
   ]
  },
  {
   "cell_type": "markdown",
   "metadata": {},
   "source": [
    "## 5/ Conversion list ↔ ndarray\n",
    "<span style=\"color:green\">list</span> objects are largely used for collecting data, but they can't be used for **numeric calculation**.\n",
    "\n",
    "You must know how to use:\n",
    "- The [array](https://docs.scipy.org/doc/numpy/reference/generated/numpy.array.html) function of the **numpy** module , \n",
    "to convert a <span style=\"color:green\">list</span> into an <span style=\"color:green\">numpy.ndarray</span> and vice versa:<br>\n",
    "`M = numpy.array(L)` $\\leadsto$ converts the `L` list to the `M` n-dimensional array\n",
    "\n",
    "- The method [tolist](https://docs.scipy.org/doc/numpy/reference/generated/numpy.ndarray.tolist.html) of the class \n",
    "<span style=\"color:green\">numpy.ndarray</span>, to convert a <span style=\"color:green\">ndarray</span> into a <span style=\"color:green\">list</span>:<br>\n",
    "`L=M.tolist()` $\\leadsto$ converts the `M` array to the a list.\n"
   ]
  },
  {
   "cell_type": "markdown",
   "metadata": {},
   "source": [
    "### Exercice 8 $–$ List ↔ vector conversion\n",
    "\n",
    "- Import the <span style=\"color:green\">numpy</span> module with the <span style=\"color:green\">np</span> alias.\n",
    "- Define the list comprehension `L1` as the squared integers from 1 to 9.<br>\n",
    "- Define and display `V1`, the conversion of `L1` to a <span style=\"color:green\">numpy.ndarray</span>.<br />\n",
    "- Display the type of `V1` and its attributes\n",
    "<span style=\"color:green\">dtype</span>,\n",
    "<span style=\"color:green\">shape</span>,\n",
    "<span style=\"color:green\">ndim</span>,\n",
    "<span style=\"color:green\">size</span>,\n",
    "<span style=\"color:green\">itemsize</span> and\n",
    "<span style=\"color:green\">nbytes</span>.\n",
    "- Define and display `V2`, the conversion of `L1` to a <span style=\"color:green\">ndarray</span> of integers, obtained by passing the additional argument\n",
    "<span style=\"color:brown\">dtype=</span><span style=\"color:green\">\"uint8\"</span>\n",
    "to the `array` function.<br>\n",
    "Display the `V2.itemsize` attribute.<br />\n",
    "Observe the difference between the output of `print(V2)` and `print(repr(V2))`.\n",
    "- Define **without an explicit loop** the vector `V3`, such that for all $i$:\n",
    "$V3[i]\\,=\\,\\sqrt{V2[i]}\\,\\cos(V2[i]\\,\\pi/20)$.<br />\n",
    "- Show `V3` and its attributes\n",
    "<span style=\"color:green\">shape</span>,\n",
    "<span style=\"color:green\">ndim</span> and\n",
    "<span style=\"color:green\">size</span>.\n",
    "- Modify `V3` with the instruction `V3.shape = (3,3)`: display again `V3` and its attributes\n",
    "<span style=\"color:green\">shape</span>,\n",
    "<span style=\"color:green\">ndim</span> and\n",
    "<span style=\"color:green\">size</span>; observe what has changed.\n",
    "- Convert `V3` to a `L3` list with <span style=\"color:green\">tolist</span> method. Display `L3`."
   ]
  },
  {
   "cell_type": "code",
   "execution_count": null,
   "metadata": {},
   "outputs": [],
   "source": [
    "import numpy as np"
   ]
  },
  {
   "cell_type": "code",
   "execution_count": null,
   "metadata": {},
   "outputs": [],
   "source": [
    "L1 = [n**2 for n in range(1,10)]\n",
    "L1"
   ]
  },
  {
   "cell_type": "code",
   "execution_count": null,
   "metadata": {},
   "outputs": [],
   "source": [
    "V1 = np.array(L1)\n",
    "V1"
   ]
  },
  {
   "cell_type": "markdown",
   "metadata": {},
   "source": [
    "##### <span style=\"color:#0060B0\"> Print the type of `V1` : </span>"
   ]
  },
  {
   "cell_type": "code",
   "execution_count": null,
   "metadata": {},
   "outputs": [],
   "source": [
    "type(V1)"
   ]
  },
  {
   "cell_type": "markdown",
   "metadata": {},
   "source": [
    "##### <span style=\"color:#0060B0\"> Print the `V1` data type: </span>"
   ]
  },
  {
   "cell_type": "code",
   "execution_count": null,
   "metadata": {},
   "outputs": [],
   "source": [
    "V1.dtype                 # data type"
   ]
  },
  {
   "cell_type": "markdown",
   "metadata": {},
   "source": [
    "##### <span style=\"color:#0060B0\"> Print the array dimensions: a vector of ten elemnts</span>"
   ]
  },
  {
   "cell_type": "code",
   "execution_count": null,
   "metadata": {},
   "outputs": [],
   "source": [
    "V1.shape"
   ]
  },
  {
   "cell_type": "code",
   "execution_count": null,
   "metadata": {},
   "outputs": [],
   "source": [
    "type(V1.shape)"
   ]
  },
  {
   "cell_type": "markdown",
   "metadata": {},
   "source": [
    "The attribute **ndarray.shape** is always a **tuple**."
   ]
  },
  {
   "cell_type": "markdown",
   "metadata": {},
   "source": [
    "##### <span style=\"color:#0060B0\"> Print the number of dimenions: 1 $\\leadsto$ vector, 2  $\\leadsto$ matrix</span>"
   ]
  },
  {
   "cell_type": "code",
   "execution_count": null,
   "metadata": {},
   "outputs": [],
   "source": [
    "V1.ndim"
   ]
  },
  {
   "cell_type": "markdown",
   "metadata": {},
   "source": [
    "##### <span style=\"color:#0060B0\"> Print the number of elements in the array:</span>"
   ]
  },
  {
   "cell_type": "code",
   "execution_count": null,
   "metadata": {},
   "outputs": [],
   "source": [
    "V1.size"
   ]
  },
  {
   "cell_type": "markdown",
   "metadata": {},
   "source": [
    "##### <span style=\"color:#0060B0\"> The size of the array element (in Bytes):</span>"
   ]
  },
  {
   "cell_type": "code",
   "execution_count": null,
   "metadata": {},
   "outputs": [],
   "source": [
    "V1.itemsize"
   ]
  },
  {
   "cell_type": "markdown",
   "metadata": {},
   "source": [
    "##### <span style=\"color:#0060B0\"> The total size of the array in memory (in Bytes):</span>"
   ]
  },
  {
   "cell_type": "code",
   "execution_count": null,
   "metadata": {},
   "outputs": [],
   "source": [
    "V1.nbytes"
   ]
  },
  {
   "cell_type": "markdown",
   "metadata": {},
   "source": [
    "A simple relation always vérified:"
   ]
  },
  {
   "cell_type": "code",
   "execution_count": null,
   "metadata": {},
   "outputs": [],
   "source": [
    "V1.nbytes == V1.size*V1.itemsize"
   ]
  },
  {
   "cell_type": "markdown",
   "metadata": {},
   "source": [
    "##### <span style=\"color:#0060B0\">Convert the list to a vector with the type impoed (uint: unsigned integer): </span>"
   ]
  },
  {
   "cell_type": "code",
   "execution_count": null,
   "metadata": {},
   "outputs": [],
   "source": [
    "V2 = np.array(L1, dtype=\"uint8\")\n",
    "V2"
   ]
  },
  {
   "cell_type": "code",
   "execution_count": null,
   "metadata": {},
   "outputs": [],
   "source": [
    "V2.itemsize"
   ]
  },
  {
   "cell_type": "code",
   "execution_count": null,
   "metadata": {},
   "outputs": [],
   "source": [
    "print(V2)"
   ]
  },
  {
   "cell_type": "code",
   "execution_count": null,
   "metadata": {},
   "outputs": [],
   "source": [
    "print(repr(V2))"
   ]
  },
  {
   "cell_type": "code",
   "execution_count": null,
   "metadata": {},
   "outputs": [],
   "source": [
    "V2"
   ]
  },
  {
   "cell_type": "markdown",
   "metadata": {},
   "source": [
    "repr(V2) gives the same string as the interactive echo of V2."
   ]
  },
  {
   "cell_type": "markdown",
   "metadata": {},
   "source": [
    "##### <span style=\"color:#0060B0\">Vectorized syntaxe: the loop is optimized in `numpy`: </span>"
   ]
  },
  {
   "cell_type": "code",
   "execution_count": null,
   "metadata": {},
   "outputs": [],
   "source": [
    "V3 = np.sqrt(V1)*np.cos(V1*np.pi/20)  # the * operator makes an element wize product\n",
    "V3"
   ]
  },
  {
   "cell_type": "markdown",
   "metadata": {},
   "source": [
    "##### <span style=\"color:#0060B0\">Modifiy the array shape:</span>"
   ]
  },
  {
   "cell_type": "code",
   "execution_count": null,
   "metadata": {},
   "outputs": [],
   "source": [
    "V3.shape = (3,3)\n",
    "V3"
   ]
  },
  {
   "cell_type": "code",
   "execution_count": null,
   "metadata": {},
   "outputs": [],
   "source": [
    "print(f'V3.shape: {V3.shape}')\n",
    "print(f'V3.ndim : {V3.ndim}')\n",
    "print(f'V3.size : {V3.size}')"
   ]
  },
  {
   "cell_type": "markdown",
   "metadata": {},
   "source": [
    "##### <span style=\"color:#0060B0\">Convert V3 to a list:</span>"
   ]
  },
  {
   "cell_type": "code",
   "execution_count": null,
   "metadata": {},
   "outputs": [],
   "source": [
    "L3 = V3.tolist()\n",
    "L3"
   ]
  },
  {
   "cell_type": "markdown",
   "metadata": {},
   "source": [
    "### Exercice 9 $–$ Conversions listes ↔ matrice\n",
    "- Observer dans le shell le résultat des deux instructions :<br />\n",
    "`[10*i+j for i in range(1,4) for j in range(1,4)]` <br />\n",
    "`[[10*i+j for j in range(1,4)] for i in range(1,4)]`.\n",
    "- En déduire deux façons différentes de définir la matrice `M` de terme général $M_{i,\\,j}=j^{\\,i}$ avec $(i,j) \\in [1;5]\\times[1;5]$ à partir de listes définies en compréhension puis converties en <span style=\"color:green\">ndarray</span> ."
   ]
  },
  {
   "cell_type": "markdown",
   "metadata": {},
   "source": [
    "### Exercice 9 $–$ Conversions list ↔ matrix\n",
    "\n",
    "- Observe in the the result of the two instructions:<br>\n",
    "`[10*i+j for i in range(1,4) for j in range(1,4)]` <br>\n",
    "`[[10*i+j for j in range(1,4)] for i in range(1,4)]`.\n",
    "\n",
    "- Deduce two different ways to define the `M` matrix of general term $M_{i,\\,j}=j^{\\,i}$ with $(i,j) \\in [1;5]\\times [1;5]$ from list comprehension defined then converted to <span style=\"color:green\">ndarray</span> ."
   ]
  },
  {
   "cell_type": "code",
   "execution_count": null,
   "metadata": {},
   "outputs": [],
   "source": [
    "[10*i+j for i in range(1,4) for j in range(1,4)]"
   ]
  },
  {
   "cell_type": "code",
   "execution_count": null,
   "metadata": {},
   "outputs": [],
   "source": [
    "[[10*i+j for j in range(1,4)] for i in range(1,4)]"
   ]
  },
  {
   "cell_type": "markdown",
   "metadata": {},
   "source": [
    "##### <span style=\"color:#0060B0\">Vector converted into a matrix:</span>"
   ]
  },
  {
   "cell_type": "code",
   "execution_count": null,
   "metadata": {},
   "outputs": [],
   "source": [
    "L = [j**i for i in range(1,6) for j in range(1,6)]\n",
    "V = np.array(L)\n",
    "V"
   ]
  },
  {
   "cell_type": "code",
   "execution_count": null,
   "metadata": {},
   "outputs": [],
   "source": [
    "V.shape = (5,5)\n",
    "V"
   ]
  },
  {
   "cell_type": "markdown",
   "metadata": {},
   "source": [
    "##### <span style=\"color:#0060B0\">List of lists converted into a matrix:</span>"
   ]
  },
  {
   "cell_type": "code",
   "execution_count": null,
   "metadata": {},
   "outputs": [],
   "source": [
    "L = [[j**i for j in range(1,6)] for i in range(1,6)]\n",
    "L"
   ]
  },
  {
   "cell_type": "code",
   "execution_count": null,
   "metadata": {},
   "outputs": [],
   "source": [
    "M = np.array(L)\n",
    "M"
   ]
  },
  {
   "cell_type": "markdown",
   "metadata": {},
   "source": [
    "## 5/ Reading ASCII files $-$ Encoding\n",
    "\n",
    "ASCII files are open with the <span style=\"color:green\">open</span> primitive which returns an iterable object of type </span><span style=\"color:green\">TextIOWrapper</span>: <br>\n",
    "    <span style=\"font-family:courier\">\n",
    "    <span style=\"color:#B08000\">with</span> <span style=\"color:#800080\">open</span>(<span style=\"color:#808080\">file path</span>, \n",
    "    <span style=\"color:#008000\">\"r\"</span>, encoding=<span style=\"color:#808080\"><encoding specification></span>)\n",
    "    <span style =\"color:#B08000\"> as</span> F:<br>\n",
    "    <span style=\"color:white\">&nbsp;&nbsp;&nbsp;</span>...</p> </span>\n",
    "    \n",
    "Reading accentuated characters requires specifying their **encoding** for correct interpretation.<br>\n",
    "The most common encodings are **utf8** (Mac OS X, GNU/Linux default encoding) and **cp1252** or **iso8859-15** (Windows default encoding).<br>\n",
    "\n",
    "Using a **<span style=\"font-family:courier;color:#B08000\">with</span>** block automatically closes the file as soon as you exit the block."
   ]
  },
  {
   "cell_type": "markdown",
   "metadata": {},
   "source": [
    "### Exercice 10 – Global reading of an ASCII file, decoding of accentuated characters\n",
    "\n",
    "- Read the `accents.txt` file (found in the `data` directory) in a single string with the method </span><span style=\"color:green\">read</span>, \n",
    "specifying **cp1252** as encoding, then display the resulting string.\n",
    "- Same work, this time specifying **utf8** as the encoding."
   ]
  },
  {
   "cell_type": "markdown",
   "metadata": {},
   "source": [
    "##### <span style=\"color:#0060B0\">`cp1252` encoding:</span>"
   ]
  },
  {
   "cell_type": "code",
   "execution_count": null,
   "metadata": {},
   "outputs": [],
   "source": [
    "with open(\"data/accents.txt\", \"r\", encoding=\"cp1252\") as F :\n",
    "    data = F.read()\n",
    "print(data)"
   ]
  },
  {
   "cell_type": "markdown",
   "metadata": {},
   "source": [
    "##### <span style=\"color:#0060B0\">`utf8` encoding</span>"
   ]
  },
  {
   "cell_type": "code",
   "execution_count": null,
   "metadata": {},
   "outputs": [],
   "source": [
    "with open(\"data/accents.txt\", \"r\", encoding=\"utf8\") as F :\n",
    "    data = F.read()\n",
    "print(data)"
   ]
  },
  {
   "cell_type": "markdown",
   "metadata": {},
   "source": [
    "### Exercice 11 $–$ Lecture d’un fichier ASCII ligne par ligne\n",
    "Lire le fichier `data.txt` (présent dans le répertoire `sources`) avec la méthode <span style=\"color:green\">readlines</span> et faire afficher ses lignes.\n",
    "\n",
    "Éliminer les lignes qui sont des commentaires (commençant par `#`)."
   ]
  },
  {
   "cell_type": "code",
   "execution_count": null,
   "metadata": {},
   "outputs": [],
   "source": [
    "with open(\"data/data.txt\", \"r\", encoding=\"utf8\") as F :\n",
    "    listeData = F.readlines()\n",
    "listeData"
   ]
  },
  {
   "cell_type": "code",
   "execution_count": null,
   "metadata": {},
   "outputs": [],
   "source": [
    "listeData2 = [ligne for ligne in listeData if not ligne.startswith(\"#\") ]\n",
    "listeData2"
   ]
  },
  {
   "cell_type": "code",
   "execution_count": null,
   "metadata": {},
   "outputs": [],
   "source": [
    "# Variante :\n",
    "[ligne for ligne in listeData if ligne[0] != \"#\" ]"
   ]
  },
  {
   "cell_type": "markdown",
   "metadata": {},
   "source": [
    "### Exercice 12 – Processing data from an ASCII file\n",
    "- Read the `data/data.txt` file line by line: some lines contain data representing three numbers, others are comment lines. Each reading of a line of data makes it possible to define list comprehension of three numbers, to be added to the numerical data already read (list of lists).\n",
    "- Convert the data into a <span style=\"color:green\">numpy.ndarray</span> (3 columns): time, stress converted in MPa and strain converted in %.<br>\n",
    "display the array and each of its 3 columns."
   ]
  },
  {
   "cell_type": "code",
   "execution_count": null,
   "metadata": {},
   "outputs": [],
   "source": [
    "with open(\"data/data.txt\", \"r\", encoding=\"utf8\") as F :\n",
    "    lines = F.readlines()"
   ]
  },
  {
   "cell_type": "code",
   "execution_count": null,
   "metadata": {},
   "outputs": [],
   "source": [
    "print(lines[0])"
   ]
  },
  {
   "cell_type": "code",
   "execution_count": null,
   "metadata": {},
   "outputs": [],
   "source": [
    "listData =  [l for l in lines if not l.startswith(\"#\") ]\n",
    "listData"
   ]
  },
  {
   "cell_type": "code",
   "execution_count": null,
   "metadata": {},
   "outputs": [],
   "source": [
    "listData =  [l.strip() for l in lines if not l.startswith(\"#\") ]\n",
    "listData"
   ]
  },
  {
   "cell_type": "code",
   "execution_count": null,
   "metadata": {},
   "outputs": [],
   "source": [
    "data = [[float(x) for x in line.split()] for line in listData]\n",
    "data"
   ]
  },
  {
   "cell_type": "code",
   "execution_count": null,
   "metadata": {},
   "outputs": [],
   "source": [
    "import numpy as np\n",
    "M = np.array(data)\n",
    "del data                 # free the memory given to teh list of lists which is no more usefu\n",
    "M"
   ]
  },
  {
   "cell_type": "code",
   "execution_count": null,
   "metadata": {},
   "outputs": [],
   "source": [
    "t = M[:,0]  # first column of the matrix: time\n",
    "t"
   ]
  },
  {
   "cell_type": "code",
   "execution_count": null,
   "metadata": {},
   "outputs": [],
   "source": [
    "stress = 1e-6*M[:,1]     # second column of the matrix: stress converted in MPa\n",
    "stress"
   ]
  },
  {
   "cell_type": "code",
   "execution_count": null,
   "metadata": {},
   "outputs": [],
   "source": [
    "strain = 100*M[:,2]     # third column of the matrix: strain converted in %\n",
    "strain"
   ]
  },
  {
   "cell_type": "markdown",
   "metadata": {},
   "source": [
    "## 6/ Read CSV files with `pandas` and plot data with `matplotlib.pyplot`"
   ]
  },
  {
   "cell_type": "code",
   "execution_count": null,
   "metadata": {},
   "outputs": [],
   "source": [
    "# %load  readFile_PlotData/readCSV_1\n",
    "import pandas as pd\n",
    "import matplotlib.pyplot as plt\n",
    "\n",
    "# read_cvs returns an object of type pandas.DataFrame :\n",
    "df = pd.read_csv('data.csv', comment=\"#\", sep=\";\", header=None)\n",
    "\n",
    "print(\"type(df.values):\", type(df.values))\n",
    "print(\"df.values.shape:\", df.values.shape)\n",
    "\n",
    "T = df.values[:, 0] # first column\n",
    "X = df.values[:, 1] # second column\n",
    "Y = df.values[:, 2] # third column\n",
    "\n",
    "print(\"T.shape:\", T.shape)\n",
    "\n",
    "plt.figure()  # create an empty plotting window\n",
    "plt.plot(T, X) # plot X(T)\n",
    "plt.xlabel(\"time [s]\")\n",
    "plt.ylabel(\"X displ. [pixels]\")\n",
    "plt.title(\"Mass-spring experience\", size=18)\n",
    "plt.grid()\n",
    "plt.show()    # to show the plot \n"
   ]
  },
  {
   "cell_type": "code",
   "execution_count": 10,
   "metadata": {},
   "outputs": [],
   "source": [
    "import sys\n",
    "sys.path.append(\"./readFile_PlotData\")\n",
    "from readCSV_31 import read_plot_CSV"
   ]
  },
  {
   "cell_type": "code",
   "execution_count": 12,
   "metadata": {},
   "outputs": [
    {
     "name": "stdout",
     "output_type": "stream",
     "text": [
      "type(df.values): <class 'numpy.ndarray'>\n",
      "df.values.shape: (136, 4)\n",
      "T.shape: (136,)\n",
      "period of X1: 1.4 s\n",
      "period of Y1: 0.7 s\n"
     ]
    },
    {
     "data": {
      "image/png": "[encoded data removed]",
      "text/plain": [
       "<Figure size 432x288 with 1 Axes>"
      ]
     },
     "metadata": {
      "needs_background": "light"
     },
     "output_type": "display_data"
    }
   ],
   "source": [
    "read_plot_CSV(\"./readFile_PlotData\" + \"/data.csv\")"
   ]
  },
  {
   "cell_type": "markdown",
   "metadata": {},
   "source": [
    "## 6/ Elementary tree manipulation: `os` and `os.path` modules\n",
    "\n",
    "The `os` and `os.path` modules contain many functions dedicated to manipulating files and\n",
    "directories (also called folders).<br>\n",
    "In the table below `<path>` is a string giving the (relative or absolute) path of a file or directory:<br>\n",
    "\n",
    "|`os` function | comment|\n",
    "|--------------|--------|\n",
    "|<span style=\"color:chocolate\">os.getcwd()</span> | returns the absolute path of the current working directory |\n",
    "|<span style=\"color:chocolate\">os.chdir(<span style=\"color:green\">*path*</span>)</span> | changes the *current directory* to <span style=\"color:green\">*path*</span>|\n",
    "|<span style=\"color:chocolate\">os.mkdir(<span style=\"color:green\">*path*</span>)</span> | makes the new directory <span style=\"color:green\">*path*</span>|\n",
    "|<span style=\"color:chocolate\">os.lisdir(<span style=\"color:green\">*path*</span>)</span> | lists the files and directory in <span style=\"color:green\">*path*</span>|\n",
    "|<span style=\"color:chocolate\">os.path.isdir(<span style=\"color:green\">*path*</span>)</span> | tests if <span style=\"color:green\">*path*</span> is a directory|\n",
    "|<span style=\"color:chocolate\">os.path.isfile(<span style=\"color:green\">*path*</span>)</span> | tests if <span style=\"color:green\">*path*</span> is a file|\n",
    "|<span style=\"color:chocolate\">os.path.basename(<span style=\"color:green\">*path*</span>)</span> | returns the last part (directory or file) in <span style=\"color:green\">*path*</span>|\n",
    "|<span style=\"color:chocolate\">os.path.dirname(<span style=\"color:green\">*path*</span>)</span> | returns the part *acces path* to the file or directory <span style=\"color:green\">*path*</span>|\n",
    "|<span style=\"color:chocolate\">os.path.split(<span style=\"color:green\">*path*</span>)</span> | returns the tuple (dirname, basename) from <span style=\"color:green\">*path*</span>|\n",
    "|<span style=\"color:chocolate\">os.path.join(<span style=\"color:green\">*p1*</span>, <span style=\"color:green\">*p2*</span>...)</span> | concatenates <span style=\"color:green\">*p1*</span>, <span style=\"color:green\">*p2*</span>... with the separator `/`|\n",
    "\n",
    "Helpful Notes:\n",
    "- The character <span style=\"color:green\">/</span> can be used as a separator of directory names for any operating system.\n",
    "- The *current directory* can be designated by the shortcut <span style=\"color:green\">\".\"</span>&nbsp;, the *parent directory* by the shortcut <span style=\"color:green\">\"..\"</span>&nbsp;."
   ]
  },
  {
   "cell_type": "markdown",
   "metadata": {},
   "source": [
    "### Exercice 13 $–$ Files tree\n",
    "\n",
    "- import the `os` module.\n",
    "- use the `os.getcwd` function to print the *current working directory*.\n",
    "- use the `os.listdir` function with the arguments: <span style=\"color:green\">\".\"</span> (the current directory), \n",
    "<span style=\"color:green\">\"..\"</span> (the parent directory) and <span style=\"color:green\">data</span>."
   ]
  },
  {
   "cell_type": "code",
   "execution_count": null,
   "metadata": {},
   "outputs": [],
   "source": [
    "import os"
   ]
  },
  {
   "cell_type": "markdown",
   "metadata": {},
   "source": [
    "##### <span style=\"color:#0060B0\">Current Working Directory:</span>"
   ]
  },
  {
   "cell_type": "code",
   "execution_count": null,
   "metadata": {},
   "outputs": [],
   "source": [
    "os.getcwd()"
   ]
  },
  {
   "cell_type": "markdown",
   "metadata": {},
   "source": [
    "##### <span style=\"color:#0060B0\">Content of the current directory</span>"
   ]
  },
  {
   "cell_type": "code",
   "execution_count": null,
   "metadata": {},
   "outputs": [],
   "source": [
    "os.listdir()"
   ]
  },
  {
   "cell_type": "code",
   "execution_count": null,
   "metadata": {},
   "outputs": [],
   "source": [
    "os.listdir(\".\")"
   ]
  },
  {
   "cell_type": "markdown",
   "metadata": {},
   "source": [
    "##### <span style=\"color:#0060B0\">Content of the parent directory:</span>"
   ]
  },
  {
   "cell_type": "code",
   "execution_count": null,
   "metadata": {},
   "outputs": [],
   "source": [
    "os.listdir(\"..\")"
   ]
  },
  {
   "cell_type": "code",
   "execution_count": null,
   "metadata": {},
   "outputs": [],
   "source": [
    "os.listdir(\"../..\") # Dossier grand-parent"
   ]
  },
  {
   "cell_type": "markdown",
   "metadata": {},
   "source": [
    "##### <span style=\"color:#0060B0\">Content of the `data` directory:</span>"
   ]
  },
  {
   "cell_type": "code",
   "execution_count": null,
   "metadata": {},
   "outputs": [],
   "source": [
    "os.listdir(\"data\")"
   ]
  },
  {
   "cell_type": "markdown",
   "metadata": {},
   "source": [
    "##### <span style=\"color:#0060B0\">Fucntion of `os.path`</span>"
   ]
  },
  {
   "cell_type": "code",
   "execution_count": null,
   "metadata": {},
   "outputs": [],
   "source": [
    "os.path.isfile('data/data.txt')"
   ]
  },
  {
   "cell_type": "code",
   "execution_count": null,
   "metadata": {},
   "outputs": [],
   "source": [
    "os.path.isdir('data/data.txt')"
   ]
  },
  {
   "cell_type": "code",
   "execution_count": null,
   "metadata": {},
   "outputs": [],
   "source": [
    "os.path.exists('data/aaaaaaaaaaaaaaaaaaaaaa.txt')"
   ]
  },
  {
   "cell_type": "code",
   "execution_count": null,
   "metadata": {},
   "outputs": [],
   "source": [
    "os.path.isfile('data/directory')"
   ]
  },
  {
   "cell_type": "code",
   "execution_count": null,
   "metadata": {},
   "outputs": [],
   "source": [
    "os.path.isdir('data/directory1')"
   ]
  },
  {
   "cell_type": "markdown",
   "metadata": {},
   "source": [
    "### Exercice 14 $–$ File/directory sorting\n",
    "\n",
    "- Display the absolute name of the current directory.\n",
    "- Display the list comprehension of the files and the list comprehension of the directories contained in the <span style=\"color:green\">data</span> directory."
   ]
  },
  {
   "cell_type": "code",
   "execution_count": null,
   "metadata": {},
   "outputs": [],
   "source": [
    "print(\"current working directory:\",os.getcwd())"
   ]
  },
  {
   "cell_type": "code",
   "execution_count": null,
   "metadata": {},
   "outputs": [],
   "source": [
    "files = [f for f in os.listdir('data') if os.path.isfile(os.path.join('data', f))]\n",
    "print(\"Files:\", files)"
   ]
  },
  {
   "cell_type": "code",
   "execution_count": null,
   "metadata": {},
   "outputs": [],
   "source": [
    "dirs = [f for f in os.listdir('data') if os.path.isdir(os.path.join('data', f))]\n",
    "print(\"Directories:\", dirs)"
   ]
  },
  {
   "cell_type": "markdown",
   "metadata": {},
   "source": [
    "### Exercice 15 $–$ Full contents of a directory with `os.walk`\n",
    "\n",
    "- Look at the items of `list(os.walk(\"data\")`.\n",
    "- Deduce a way to get the list of all the file & directories paths contained in the <span style=\"color:green\">data</span> directory."
   ]
  },
  {
   "cell_type": "code",
   "execution_count": null,
   "metadata": {},
   "outputs": [],
   "source": [
    "L = list(os.walk(\"data\"))\n",
    "L"
   ]
  },
  {
   "cell_type": "code",
   "execution_count": null,
   "metadata": {},
   "outputs": [],
   "source": [
    "len(L)"
   ]
  },
  {
   "cell_type": "code",
   "execution_count": null,
   "metadata": {},
   "outputs": [],
   "source": [
    "L[0]"
   ]
  },
  {
   "cell_type": "code",
   "execution_count": null,
   "metadata": {},
   "outputs": [],
   "source": [
    "L[1]"
   ]
  },
  {
   "cell_type": "code",
   "execution_count": null,
   "metadata": {},
   "outputs": [],
   "source": [
    "for directory, list_sub_dirs, list_files in os.walk(\"data\") :\n",
    "    print(\"===================\\nDirectory:\", directory)\n",
    "    print(\"\\tsub-dirs:\", list_sub_dirs)\n",
    "    print(\"\\tfiles   :\", list_files)"
   ]
  },
  {
   "cell_type": "code",
   "execution_count": null,
   "metadata": {},
   "outputs": [],
   "source": [
    "paths = []\n",
    "for directory, _, files in os.walk(\"data\") :\n",
    "    paths.extend([os.path.join(directory, f) for f in files])\n",
    "paths"
   ]
  },
  {
   "cell_type": "markdown",
   "metadata": {},
   "source": [
    "## 7/ Reading image files\n",
    "\n",
    "There are several modules for reading an image [with_pixels $\\times$ height_pixels] from a **PNG file** that return a  **ndarray** `(height × width × 3 or 4)`.<br>\n",
    "The `T[i,j]` element of `T` is an array of 3 pixels (Red, Green, Blue) and possibly a fourth one for the opacity.<br>\n",
    "\n",
    "- The **imread** function of the **imageio** module returns an array of integers in the range [0; 255] (one-byte encoding).\n",
    "- The **imread** function of the **matplotlib.pyplot** module returns array of floats in the range [0.; 1.]<br>\n",
    "- For diplaying an image one can use the **matplotlib.pyplot.imshow** funtion."
   ]
  },
  {
   "cell_type": "markdown",
   "metadata": {},
   "source": [
    "### Exercice 16 $–$ Simple image reading and manipulation\n",
    "\n",
    "- Import the `matplotlib.pyplot` module with the alias `plt`.\n",
    "- Using the two **imread** functions above, create the arrays `TI` of integers and `TF` of floats by\n",
    "reading the image <span style=\"color:green\">pinglinux.png</span> in the <span style=\"color:green\">data</span> directory.\n",
    "- Compare their shape and data type. \n",
    "- Display the images from the arrays `TI` and `TF`."
   ]
  },
  {
   "cell_type": "code",
   "execution_count": null,
   "metadata": {},
   "outputs": [],
   "source": [
    "import matplotlib.pyplot as plt"
   ]
  },
  {
   "cell_type": "code",
   "execution_count": null,
   "metadata": {},
   "outputs": [],
   "source": [
    "from imageio import imread\n",
    "TI = imread(\"data/pinglinux.png\")\n",
    "TI.shape"
   ]
  },
  {
   "cell_type": "code",
   "execution_count": null,
   "metadata": {},
   "outputs": [],
   "source": [
    "TI.dtype"
   ]
  },
  {
   "cell_type": "code",
   "execution_count": null,
   "metadata": {},
   "outputs": [],
   "source": [
    "TF = plt.imread(\"data/pinglinux.png\")\n",
    "TF.shape"
   ]
  },
  {
   "cell_type": "code",
   "execution_count": null,
   "metadata": {},
   "outputs": [],
   "source": [
    "TF.dtype"
   ]
  },
  {
   "cell_type": "code",
   "execution_count": null,
   "metadata": {},
   "outputs": [],
   "source": [
    "plt.imshow(TI)"
   ]
  },
  {
   "cell_type": "code",
   "execution_count": null,
   "metadata": {},
   "outputs": [],
   "source": [
    "plt.imshow(TF)"
   ]
  },
  {
   "cell_type": "markdown",
   "metadata": {},
   "source": [
    "The two plots in the same figure with the `subplot` function:"
   ]
  },
  {
   "cell_type": "code",
   "execution_count": null,
   "metadata": {},
   "outputs": [],
   "source": [
    "fig, axes = plt.subplots(1,2)\n",
    "axes[0].imshow(TI)\n",
    "axes[1].imshow(TF);\n",
    "axes[0].set_facecolor((0.8,1,0.8))\n",
    "axes[1].set_facecolor((1,0.8,0.8))"
   ]
  },
  {
   "cell_type": "markdown",
   "metadata": {},
   "source": [
    "- Observe and explain the images corresponding to `TI[::-1,:,:]`, `TI[:,::-1,:]` and `TI[:,:,;::-1]`:"
   ]
  },
  {
   "cell_type": "code",
   "execution_count": null,
   "metadata": {},
   "outputs": [],
   "source": [
    "plt.title(\"TI[::-1,:,:] -> reversing the lines\\n\", size=16)\n",
    "plt.imshow(TI[::-1,:,:])"
   ]
  },
  {
   "cell_type": "code",
   "execution_count": null,
   "metadata": {},
   "outputs": [],
   "source": [
    "plt.title(\"TI[:,::-1,:] -> reversing the columns\\n\", size=16)\n",
    "plt.imshow(TI[:,::-1,:],interpolation=\"none\")"
   ]
  },
  {
   "cell_type": "code",
   "execution_count": null,
   "metadata": {},
   "outputs": [],
   "source": [
    "plt.title(\"TI[:,:,::-1] -> reversing colors\\n\", size=16)\n",
    "plt.imshow(TI[:,:,::-1])"
   ]
  },
  {
   "cell_type": "code",
   "execution_count": null,
   "metadata": {},
   "outputs": [],
   "source": []
  }
 ],
 "metadata": {
  "kernelspec": {
   "display_name": "Python 3",
   "language": "python",
   "name": "python3"
  },
  "language_info": {
   "codemirror_mode": {
    "name": "ipython",
    "version": 3
   },
   "file_extension": ".py",
   "mimetype": "text/x-python",
   "name": "python",
   "nbconvert_exporter": "python",
   "pygments_lexer": "ipython3",
   "version": "3.6.12"
  }
 },
 "nbformat": 4,
 "nbformat_minor": 4
}
