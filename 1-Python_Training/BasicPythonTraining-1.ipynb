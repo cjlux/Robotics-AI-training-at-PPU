{
 "cells": [
  {
   "cell_type": "markdown",
   "metadata": {},
   "source": [
    "<span style=\"font-size:10pt\">Robotics & AI workshop @ PPU – June 2022 – Jean-Luc Charles (Jean-Luc.charles@ensam.eu) – CC BY-SA 4.0 – v1.0</span>"
   ]
  },
  {
   "cell_type": "markdown",
   "metadata": {},
   "source": [
    "# Basic Python training: session 1"
   ]
  },
  {
   "cell_type": "markdown",
   "metadata": {},
   "source": [
    "# 1/ Iterables in Python  and the Pythonic loop\n",
    "Python Iterables are containers that can store multiple values and are capable of returning them one by one when browsed within a `for` loop.<br>\n",
    "Iterables can store any number of values. In Python, the values can either be the same type or different types.<br>\n",
    "<span style=\"color:green;font-weight:bold;font-family:arial\">range</span>, \n",
    "<span style=\"color:green;font-weight:bold;font-family:arial\">list</span>, \n",
    "<span style=\"color:green;font-weight:bold;font-family:arial\">str</span>... are examples of iterables :"
   ]
  },
  {
   "cell_type": "code",
   "execution_count": 61,
   "metadata": {},
   "outputs": [
    {
     "name": "stdout",
     "output_type": "stream",
     "text": [
      "H\n",
      "e\n",
      "l\n",
      "l\n",
      "o\n"
     ]
    }
   ],
   "source": [
    "for c in \"Hello\" :       # the object c browses all the characters of the string\n",
    "    print (c)            # display the character"
   ]
  },
  {
   "cell_type": "code",
   "execution_count": 3,
   "metadata": {},
   "outputs": [
    {
     "name": "stdout",
     "output_type": "stream",
     "text": [
      "[0, 1, 2, 3, 4]\n",
      "0\n",
      "1\n",
      "4\n",
      "9\n",
      "16\n"
     ]
    }
   ],
   "source": [
    "L = range(5)              # L is an object of type range\n",
    "print(list(L))            # prints [0, 1, 2, 3, 4]\n",
    "for e in L:               # runs through all the elements of L: e designates successively 0, 1, 2, 3 then 4.\n",
    "    print(e*e)            # prints the value of e*e    "
   ]
  },
  {
   "cell_type": "markdown",
   "metadata": {},
   "source": [
    "### Exercice 1 $-$ Browse a list with a _Pythonic loop_\n",
    "Consider the list of strings: `L1 = [\"data1.txt\", \"data2.txt\", \"data3.txt\", \"data4.txt\"]`.\n",
    "- Define and display the `L2` list obtained by browsing `L1` and replacing the suffix \".txt\" by \".png\" for each elemnet of `L1` .\n",
    "- Define and display the `L3` list obtained by browsing `L1` backwards and deleting the suffix \".txt\" for each element of `L1` .<br /> Check that `L1` is not modified."
   ]
  },
  {
   "cell_type": "markdown",
   "metadata": {},
   "source": [
    "_Indications_:<br>\n",
    "- browse `L1` with a <span style=\"color:green\">for</span> loop<br>\n",
    "- try to use the built-in function <span style=\"color:green\">reversed(...)</span> to browse `L1` backwards<br>\n",
    "- you can also try the _slicing syntax_ `L1[::-1]` to browse `L1` backwards"
   ]
  },
  {
   "cell_type": "code",
   "execution_count": 62,
   "metadata": {},
   "outputs": [],
   "source": [
    "L1 = [\"data1.txt\", \"data2.txt\", \"data3.txt\", \"data4.txt\"]"
   ]
  },
  {
   "cell_type": "code",
   "execution_count": null,
   "metadata": {},
   "outputs": [],
   "source": []
  },
  {
   "cell_type": "markdown",
   "metadata": {},
   "source": [
    "### Exercice 2 $-$ Enumerated browsing of an iterable: the <span style=\"color:green;font-family:arial\">enumerate</span> primitive.\n",
    "You can consult the documentation on the built-in function \n",
    "[enumerate](https://docs.python.org/3/library/functions.html?highlight=enumerate#enumerate),\n",
    "or the online help by typing <span style=\"color:green;font-family:arial\">help(enumerate)</span> in a Python cell.\n",
    "\n",
    "We use the iterable `L1` from the previous exercise:\n",
    "- Using the primitive <span style=\"color:green;font-family:arial\">enumerate</span>, browse `L1` with the pair of names `n,e`: \n",
    "at each lap display the lap number `n` and the current element `e` of `L1`.<br>\n",
    "- Find two different ways to display the lopp lab number starting at 10."
   ]
  },
  {
   "cell_type": "code",
   "execution_count": 63,
   "metadata": {},
   "outputs": [
    {
     "data": {
      "text/plain": [
       "['data1.txt', 'data2.txt', 'data3.txt', 'data4.txt']"
      ]
     },
     "execution_count": 63,
     "metadata": {},
     "output_type": "execute_result"
    }
   ],
   "source": [
    "L1"
   ]
  },
  {
   "cell_type": "code",
   "execution_count": null,
   "metadata": {},
   "outputs": [],
   "source": []
  },
  {
   "cell_type": "markdown",
   "metadata": {},
   "source": [
    "### Exercice 3 $–$ Simultaneous browing of several iterables: the <span style=\"color:green;font-family:arial\">zip</span> primitive.\n",
    "You can consult the documentation of the Python site on the\n",
    "*primitive* [zip](https://docs.python.org/3/library/functions.html?highlight=zip#zip)\n",
    "or the online help by typing <span style=\"color:green;font-family:arial\">help(zip)</span> in a Python cell.<br>\n",
    "Consider the two iterable `L1` and `R=range(5,-6,-2)`:\n",
    "- See the difference between the display of `R` and `list(R)`\n",
    "- Using the <span style=\"color:green;font-family:arial\">zip</span> primitive, simultaneously browse `R` and `L1` with the pair of names `n,e` \n",
    "and display at each lap the string formed by `n` followed by the string `\": \"` and by `e`."
   ]
  },
  {
   "cell_type": "code",
   "execution_count": null,
   "metadata": {},
   "outputs": [],
   "source": []
  },
  {
   "cell_type": "markdown",
   "metadata": {},
   "source": [
    "# 2/ Mutables in Python\n",
    "\n",
    "A **mutable** in Python is an instance of a classe (*aka* an object) that can be modified using the methods\n",
    "of the classe, or with the language operators.<br>\n",
    "Most methods that modify a mutable return **nothing** (in Python nothing is the object **None**) because the modification is done\n",
    "*in place* on the object data so there is nothing to return.\n",
    "- The main mutables in Python are the **lists**\n",
    "(class <span style=\"color:green\">list</span>), the **dictionaries** (class <span style=\"color:green\">dict</span>) and **user-defined classes**.\n",
    "- Most of the **base types** are not **mutable** like <span style=\"color:green\">int</span>,\n",
    "<span style=\"color:green\">float</span>,\n",
    "<span style=\"color:green\">complex</span>,\n",
    "<span style=\"color:green\">str</span>,\n",
    "<span style=\"color:green\">bool</span>... as well as the type <span style=\"color:green\">tuple</span>\n",
    "(this is what differentiates the type <span style=\"color:green\">tuple</span> from the type <span style=\"color:green\">list</span> type).\n",
    "\n",
    "An important outcome to understand is that if you write something like <span style=\"color:#9f5f7f\">X = Mutableobject.method(...)</span><br>\n",
    "where <span style=\"color:#9f5f7f\">method</span> modifies the <span style=\"color:#9f5f7f\">mutableobject</span>, \n",
    "then **you just lose the <span style=\"color:#9f5f7f\">mutableobject</span>** and **get <span style=\"color:#9f5f7f\">None</span>** \n",
    "as the value of <span style=\"color:#9f5f7f\">X</span> after that!"
   ]
  },
  {
   "cell_type": "markdown",
   "metadata": {},
   "source": [
    "##### <span style=\"color:#0060B0\"> A string is a non-mutable: </span>"
   ]
  },
  {
   "cell_type": "code",
   "execution_count": 67,
   "metadata": {},
   "outputs": [
    {
     "name": "stdout",
     "output_type": "stream",
     "text": [
      "hello\n"
     ]
    }
   ],
   "source": [
    "a = \"hello\"              \n",
    "a.replace(\"h\",\"H\")     # the method replace(...) returns a copy of the modified object\n",
    "print(a)               # 'a' is not modified "
   ]
  },
  {
   "cell_type": "markdown",
   "metadata": {},
   "source": [
    "If you want to keep the copy of the modified object, give it a name:"
   ]
  },
  {
   "cell_type": "code",
   "execution_count": 68,
   "metadata": {},
   "outputs": [
    {
     "name": "stdout",
     "output_type": "stream",
     "text": [
      "hello Hello\n"
     ]
    }
   ],
   "source": [
    "a = \"hello\"              \n",
    "b = a.replace(\"h\",\"H\")     # the method replace(...) returns a copy of the modified object\n",
    "print(a,b)                 # 'a' is not modified "
   ]
  },
  {
   "cell_type": "markdown",
   "metadata": {},
   "source": [
    "##### <span style=\"color:#0060B0\"> A list is a mutable: the method `sort` of the class `list` works _in place_ and returns `None`:</span>"
   ]
  },
  {
   "cell_type": "code",
   "execution_count": 20,
   "metadata": {},
   "outputs": [
    {
     "data": {
      "text/plain": [
       "[5, 4, 3, 2, 1, 0]"
      ]
     },
     "execution_count": 20,
     "metadata": {},
     "output_type": "execute_result"
    }
   ],
   "source": [
    "L = list(range(5,-1,-1))\n",
    "L"
   ]
  },
  {
   "cell_type": "markdown",
   "metadata": {},
   "source": [
    "the good way to sort the list:"
   ]
  },
  {
   "cell_type": "code",
   "execution_count": 21,
   "metadata": {},
   "outputs": [
    {
     "data": {
      "text/plain": [
       "[0, 1, 2, 3, 4, 5]"
      ]
     },
     "execution_count": 21,
     "metadata": {},
     "output_type": "execute_result"
    }
   ],
   "source": [
    "L.sort()\n",
    "L"
   ]
  },
  {
   "cell_type": "markdown",
   "metadata": {},
   "source": [
    "the **<span style=\"color:#800000\"> FATAL ERROR:</span>**:"
   ]
  },
  {
   "cell_type": "code",
   "execution_count": 22,
   "metadata": {},
   "outputs": [
    {
     "name": "stdout",
     "output_type": "stream",
     "text": [
      "None\n"
     ]
    }
   ],
   "source": [
    "L = L.sort()\n",
    "print(L)"
   ]
  },
  {
   "cell_type": "markdown",
   "metadata": {},
   "source": [
    "you lost the list!"
   ]
  },
  {
   "cell_type": "markdown",
   "metadata": {},
   "source": [
    "# 3/ Working with lists\n",
    "\n",
    "### Exercice 4 $–$ Lists manipulation\n",
    "- With the <span style=\"color:green\">randint</span> function of the <span style=\"color:green\">random</span> module, \n",
    "and the <span style=\"color:green\">append</span> method of the <span style=\"color:green\">list</span> class, \n",
    "create the `LR` list of 10 random integers between 0 and 30.<br>\n",
    "See the Python doc on the [random module](https://docs.python.org/3/library/random.html), or the inline help by typing \n",
    "<span style=\"color:green\">help(\"random.randint\")</span>.\n",
    "- Arrange the elements of `LA` in ascending order and display the result.\n",
    "- Arrange the elements of `LA` in descending order and display the result."
   ]
  },
  {
   "cell_type": "code",
   "execution_count": null,
   "metadata": {},
   "outputs": [],
   "source": []
  },
  {
   "cell_type": "markdown",
   "metadata": {},
   "source": [
    "## List Comprehension\n",
    "A List Comprehension is created with **a single statement including a loop** that browses an existing iterable:<br>\n",
    "`[ <expression> for <name> in <iterable> ]`<br>\n",
    "\n",
    "You can also use **filters** in comprehension:<br>\n",
    "`[ <expression> for <name> in <iterable> if <condition> ]`."
   ]
  },
  {
   "cell_type": "markdown",
   "metadata": {},
   "source": [
    "##### <span style=\"color:#0060B0\"> Examples </span>"
   ]
  },
  {
   "cell_type": "code",
   "execution_count": 28,
   "metadata": {},
   "outputs": [
    {
     "data": {
      "text/plain": [
       "['data01.txt', 'data02.txt', 'data03.txt', 'data04.txt']"
      ]
     },
     "execution_count": 28,
     "metadata": {},
     "output_type": "execute_result"
    }
   ],
   "source": [
    "L1 = [\"data{:02d}.txt\".format(i) for i in range(1,5)] ; L1"
   ]
  },
  {
   "cell_type": "code",
   "execution_count": 29,
   "metadata": {},
   "outputs": [
    {
     "data": {
      "text/plain": [
       "[1, 3, 5, 7, 9]"
      ]
     },
     "execution_count": 29,
     "metadata": {},
     "output_type": "execute_result"
    }
   ],
   "source": [
    "L2 = [x for x in range(10) if x % 2 != 0]\n",
    "L2"
   ]
  },
  {
   "cell_type": "markdown",
   "metadata": {},
   "source": [
    "### Exercice 5 $–$ List comprehension\n",
    "- Redefine in comprehension the `LR` list of the previous exercise.\n",
    "- Define and display the list comprehension `LRS` of the squared elements of `LR`.\n",
    "- Define and display the list comprehension `LRE` of the even elements of `LR`.\n",
    "- Define and display the list comprehension `LROS` of the odd elements of `LR` squared."
   ]
  },
  {
   "cell_type": "code",
   "execution_count": null,
   "metadata": {},
   "outputs": [],
   "source": []
  },
  {
   "cell_type": "markdown",
   "metadata": {},
   "source": [
    "## Slicing\n",
    "The **slicing** allows you to extract part of a list: **you must master this technique**.\n",
    "\n",
    "The sclicing also applies to strings and multidimensional arrays (`ndarray` of the module **numpy** in the next notebook...).<br>\n",
    "\n",
    "The syntax is: `[<start>:<excluded end>:<step>]`<br>\n",
    "or, if the step is 1: `[<start>:<excluded end>]`<br>\n",
    "\n",
    "Using negative indices allows the list to be traversed in the opposite direction.\n",
    "\n",
    "<img  src=\"images/slicing.png\" style=\"height:400px;width:500px\" />"
   ]
  },
  {
   "cell_type": "markdown",
   "metadata": {},
   "source": [
    "### Exercice 6 – Extraction of sublists\n",
    "- Set the `LI` list of integers from -10 to 10.\n",
    "- Extract and display the first 3 elements of `LC`.\n",
    "- Extract and display the last 4 elements of `LC`.\n",
    "- Display the list the browsing backward of `LC`. Check that `LC` is not modified."
   ]
  },
  {
   "cell_type": "code",
   "execution_count": null,
   "metadata": {},
   "outputs": [],
   "source": []
  },
  {
   "cell_type": "markdown",
   "metadata": {},
   "source": [
    "## 4/ Working with Strings\n",
    "The <span style=\"color:green\">str</span> type has very useful methods for processing data (see <span style=\"color:green\">help(str)</span>).<br>\n",
    "Some of the very useful methods:\n",
    "<span style=\"color:green\">strip</span>,\n",
    "<span style=\"color:green\">split</span>,\n",
    "<span style=\"color:green\">join</span>,\n",
    "<span style=\"color:green\">replace</span>,\n",
    "<span style=\"color:green\">startswith</span>,\n",
    "<span style=\"color:green\">endswith</span>..."
   ]
  },
  {
   "cell_type": "markdown",
   "metadata": {},
   "source": [
    "▸ The <span style=\"color:green\">print</span> primitive interpretes the **meta-characters** like `\\t` and `\\n`:"
   ]
  },
  {
   "cell_type": "code",
   "execution_count": 49,
   "metadata": {},
   "outputs": [
    {
     "name": "stdout",
     "output_type": "stream",
     "text": [
      "\tAn anaconda is not a python\n",
      "\n"
     ]
    }
   ],
   "source": [
    "mess = \"\\tAn anaconda is not a python\\n\" ; \n",
    "print(mess)"
   ]
  },
  {
   "cell_type": "markdown",
   "metadata": {},
   "source": [
    "▸ The interactive echo does not interprete the meta-characters:"
   ]
  },
  {
   "cell_type": "code",
   "execution_count": 40,
   "metadata": {},
   "outputs": [
    {
     "data": {
      "text/plain": [
       "'\\tAn anaconda is not a python\\n'"
      ]
     },
     "execution_count": 40,
     "metadata": {},
     "output_type": "execute_result"
    }
   ],
   "source": [
    "mess"
   ]
  },
  {
   "cell_type": "markdown",
   "metadata": {},
   "source": [
    "▸ The method <span style=\"color:green\">strip</span> cleans the whites at the beginning and end of the string:"
   ]
  },
  {
   "cell_type": "code",
   "execution_count": 41,
   "metadata": {},
   "outputs": [
    {
     "data": {
      "text/plain": [
       "'An anaconda is not a python'"
      ]
     },
     "execution_count": 41,
     "metadata": {},
     "output_type": "execute_result"
    }
   ],
   "source": [
    "mess.strip()"
   ]
  },
  {
   "cell_type": "markdown",
   "metadata": {},
   "source": [
    "▸ The method <span style=\"color:green\">split</span> returns the list of the strings of the splitted "
   ]
  },
  {
   "cell_type": "code",
   "execution_count": 50,
   "metadata": {},
   "outputs": [
    {
     "data": {
      "text/plain": [
       "['An', 'anaconda', 'is', 'not', 'a', 'python']"
      ]
     },
     "execution_count": 50,
     "metadata": {},
     "output_type": "execute_result"
    }
   ],
   "source": [
    "mess.split()"
   ]
  },
  {
   "cell_type": "code",
   "execution_count": 51,
   "metadata": {},
   "outputs": [
    {
     "data": {
      "text/plain": [
       "['\\tA', ' a', 'aco', 'da is ', 'ot a pytho', '\\n']"
      ]
     },
     "execution_count": 51,
     "metadata": {},
     "output_type": "execute_result"
    }
   ],
   "source": [
    "mess.split(\"n\")"
   ]
  },
  {
   "cell_type": "markdown",
   "metadata": {},
   "source": [
    "▸ The method <span style=\"color:green\">replace</span> returns a copy of the modified string:"
   ]
  },
  {
   "cell_type": "code",
   "execution_count": 46,
   "metadata": {},
   "outputs": [
    {
     "data": {
      "text/plain": [
       "'\\tAn AAAnAAAcondAAA is not AAA python\\n'"
      ]
     },
     "execution_count": 46,
     "metadata": {},
     "output_type": "execute_result"
    }
   ],
   "source": [
    "mess.replace(\"a\",\"AAA\")"
   ]
  },
  {
   "cell_type": "markdown",
   "metadata": {},
   "source": [
    "▸ The method <span style=\"color:green\">join</span> joins the list of strings with the given wtring:"
   ]
  },
  {
   "cell_type": "code",
   "execution_count": 48,
   "metadata": {},
   "outputs": [
    {
     "data": {
      "text/plain": [
       "'An-anaconda-is-not-a-python'"
      ]
     },
     "execution_count": 48,
     "metadata": {},
     "output_type": "execute_result"
    }
   ],
   "source": [
    "\"-\".join(mess.split())"
   ]
  },
  {
   "cell_type": "markdown",
   "metadata": {},
   "source": [
    "### Exercice 7 $–$ Strings manipulation\n",
    "\n",
    "Gieven the string `S = \"Sums are not set as a test on Erasmus\"`.\n",
    "- Set `s` as the result returned by the method <span style=\"color:green\">lower</span> applied to `S`.\n",
    "Display the `S` and `s`. Has `S` changed? Why ?\n",
    "- Check that `s` is a *palindrome*: if spaces are not taken into account, reading it forward and backward gives the same string."
   ]
  },
  {
   "cell_type": "code",
   "execution_count": null,
   "metadata": {},
   "outputs": [],
   "source": []
  }
 ],
 "metadata": {
  "kernelspec": {
   "display_name": "Python 3",
   "language": "python",
   "name": "python3"
  },
  "language_info": {
   "codemirror_mode": {
    "name": "ipython",
    "version": 3
   },
   "file_extension": ".py",
   "mimetype": "text/x-python",
   "name": "python",
   "nbconvert_exporter": "python",
   "pygments_lexer": "ipython3",
   "version": "3.6.12"
  }
 },
 "nbformat": 4,
 "nbformat_minor": 4
}
