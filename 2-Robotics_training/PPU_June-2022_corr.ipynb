{
 "cells": [
  {
   "cell_type": "markdown",
   "metadata": {},
   "source": [
    "# Discover your Poppy Ergo Jr"
   ]
  },
  {
   "cell_type": "markdown",
   "metadata": {},
   "source": [
    "This notebook will guide you in your very first steps with Poppy Ergo Jr in Python. \n",
    "\n",
    "What you will see in this notebook:\n",
    "\n",
    "1. Instantiate your robot\n",
    "2. Access motors, send motor commands\n",
    "3. Use the camera\n",
    "4. Start high level behaviors\n",
    "5. Experience experience the power of object-oriented programming with Python"
   ]
  },
  {
   "cell_type": "markdown",
   "metadata": {},
   "source": [
    "![Poppy Ergo Jr](/home/poppy/dev/poppy-docs/fr/assembly-guides/ergo-jr/img/ergo_tools.gif)"
   ]
  },
  {
   "cell_type": "code",
   "execution_count": null,
   "metadata": {},
   "outputs": [],
   "source": [
    "%matplotlib inline\n",
    "import numpy as np\n",
    "import matplotlib.pyplot as plt\n",
    "import time"
   ]
  },
  {
   "cell_type": "markdown",
   "metadata": {},
   "source": [
    "## Instantiate your robot"
   ]
  },
  {
   "cell_type": "markdown",
   "metadata": {},
   "source": [
    "To start using your robot in Python, you first need to instantiate it. This cell take time to run (a few tens of secondes).<br>\n",
    "Sometimes you will have to check the cables, connectors... il the instanciatin goes wrong...."
   ]
  },
  {
   "cell_type": "code",
   "execution_count": null,
   "metadata": {},
   "outputs": [],
   "source": [
    "from pypot.creatures import PoppyErgoJr\n",
    "\n",
    "poppy = PoppyErgoJr()\n",
    "\n",
    "# If you want to use the robot with the camera unplugged, \n",
    "# you have to pass the parameter camera='dummy'\n",
    "# poppy = PoppyErgoJr(camera='dummy')\n",
    "\n",
    "# If you want to use a simulated robot in the 3D web viewer aka \"poppy simu\"\n",
    "# poppy = PoppyErgoJr(simulator='poppy-simu')\n",
    "# then go to http://simu.poppy-project.org/poppy-ergo-jr/ and check \"synchroniser\"\n",
    "\n",
    "# If you want to use the robot with the CoppeliaSim simulator, open the simulator and execute:\n",
    "# poppy = PoppyErgoJr(simulator='vrep')\n",
    "# You can also change the end effector tools if you precise the V-REP scene\n",
    "# poppy = PoppyErgoJr(simulator='vrep', scene=\"poppy_ergo_jr_holder.ttt\")\n",
    "# poppy = PoppyErgoJr(simulator='vrep', scene=\"poppy_ergo_jr_empty.ttt\")"
   ]
  },
  {
   "cell_type": "markdown",
   "metadata": {},
   "source": [
    "This creates a [Robot](http://poppy-project.github.io/pypot/pypot.robot.html#pypot.robot.robot.Robot) object that can be used to access the motors and sensors by . The *motors* and *sensors* fields of the Robot then reflect the actual robot state."
   ]
  },
  {
   "cell_type": "markdown",
   "metadata": {},
   "source": [
    "Before doing anything else, we will move the robot to its rest position:"
   ]
  },
  {
   "cell_type": "code",
   "execution_count": null,
   "metadata": {},
   "outputs": [],
   "source": [
    "poppy.rest_posture.start()"
   ]
  },
  {
   "cell_type": "markdown",
   "metadata": {},
   "source": [
    "## Access motors"
   ]
  },
  {
   "cell_type": "markdown",
   "metadata": {},
   "source": [
    "In a Poppy Ergo Jr robot, the motors are named as illustrated below:\n",
    "\n",
    "<img src=\"http://docs.poppy-project.org/en/assembly-guides/ergo-jr/img/assembly/motors.png\" alt=\"Motors list\" height=\"200\">"
   ]
  },
  {
   "cell_type": "markdown",
   "metadata": {},
   "source": [
    "From the [Robot](http://poppy-project.github.io/pypot/pypot.robot.html#pypot.robot.robot.Robot) object, you can directly retrieve the list of motors connected by using the **motors** attribute:"
   ]
  },
  {
   "cell_type": "code",
   "execution_count": null,
   "metadata": {},
   "outputs": [],
   "source": [
    "poppy.motors"
   ]
  },
  {
   "cell_type": "markdown",
   "metadata": {},
   "source": [
    "As you can see *poppy.motors* is a **list** object that holds the 6 motors."
   ]
  },
  {
   "cell_type": "markdown",
   "metadata": {},
   "source": [
    "You can retrieve all motors name by browsing the *motors* list and printing the attribute *name* of each motor:"
   ]
  },
  {
   "cell_type": "code",
   "execution_count": null,
   "metadata": {},
   "outputs": [],
   "source": [
    "for m in poppy.motors:\n",
    "    print(m.name)"
   ]
  },
  {
   "cell_type": "markdown",
   "metadata": {},
   "source": [
    " Each motor can also be accessed directly as an attribute of the robot. For instance:"
   ]
  },
  {
   "cell_type": "code",
   "execution_count": null,
   "metadata": {},
   "outputs": [],
   "source": [
    "poppy.m1"
   ]
  },
  {
   "cell_type": "markdown",
   "metadata": {},
   "source": [
    "#### <span style=\"color:#0060B0\">Exercise</span>\n",
    "Can you print what is the type of the attribute *m1*?"
   ]
  },
  {
   "cell_type": "code",
   "execution_count": null,
   "metadata": {},
   "outputs": [],
   "source": [
    "type(poppy.m1)"
   ]
  },
  {
   "cell_type": "markdown",
   "metadata": {},
   "source": [
    "### Read values from the motors"
   ]
  },
  {
   "cell_type": "markdown",
   "metadata": {},
   "source": [
    "From the motor object you can access its registers as attributes. The main ones are:\n",
    "\n",
    "* **present_position**: the current angle of the motor (in degrees)\n",
    "* **present_speed**: the current speed of the motor (in degrees per second)\n",
    "* **present_load**: the current workload of the motor (in percentage of max load)\n",
    "* **present_temperature**: the current temperature of the motor (in celsius degrees)\n",
    "* **angle_limit**: the reachable limits of the motor (in degrees)\n",
    "\n",
    "They can be consulted directly:"
   ]
  },
  {
   "cell_type": "code",
   "execution_count": null,
   "metadata": {},
   "outputs": [],
   "source": [
    "poppy.m1.present_temperature"
   ]
  },
  {
   "cell_type": "markdown",
   "metadata": {},
   "source": [
    "#### <span style=\"color:#0060B0\">Exercise</span>\n",
    "Print the list comprehension of:<br>\n",
    "- the temperature of all the motors<br>\n",
    "- the speed of all the motors"
   ]
  },
  {
   "cell_type": "code",
   "execution_count": null,
   "metadata": {},
   "outputs": [],
   "source": [
    "[m.present_temperature for m in poppy.motors]"
   ]
  },
  {
   "cell_type": "code",
   "execution_count": null,
   "metadata": {},
   "outputs": [],
   "source": [
    "[m.present_speed for m in poppy.motors]"
   ]
  },
  {
   "cell_type": "markdown",
   "metadata": {},
   "source": [
    "#### <span style=\"color:#0060B0\">Exercise</span>\n",
    "Browse **motors** to print for each motor its name, followed by the message \"position:\" and its current position value.<br>\n",
    "Use a *formatted string* (*aka* fstring) to display the position as a float on 5 characters with one digit after the decimal point, like:<br>\n",
    "\n",
    "    m1 position:  -0.1\n",
    "    m2 position: -89.6\n",
    "    m3 position:  35.3\n",
    "    m4 position:  -0.1\n",
    "    m5 position:  55.3\n",
    "    m6 position:   0.1"
   ]
  },
  {
   "cell_type": "code",
   "execution_count": null,
   "metadata": {},
   "outputs": [],
   "source": [
    "for m in poppy.motors:\n",
    "    print(f\"{m.name} position: {m.present_position:5.1f}\")"
   ]
  },
  {
   "cell_type": "markdown",
   "metadata": {},
   "source": [
    "### Send motor commands"
   ]
  },
  {
   "cell_type": "markdown",
   "metadata": {},
   "source": [
    "Additionally to the registers presented hereabove, there are other ones used to send commands. For instance, the angular position of a motor is split in two different registers: \n",
    "\n",
    "* the read-only **present_position** of the motor\n",
    "* the read-write **goal_position** which sends to the motor a target position that it will try to reach.\n",
    "\n",
    "If you want to set a new position for a motor, you can write:"
   ]
  },
  {
   "cell_type": "code",
   "execution_count": null,
   "metadata": {},
   "outputs": [],
   "source": [
    "poppy.m1.goal_position = 10"
   ]
  },
  {
   "cell_type": "markdown",
   "metadata": {},
   "source": [
    "You should see the first motor going to a 20 degrees angle. Sending motor commands is as simple as that. Then, to make it turn backwards:"
   ]
  },
  {
   "cell_type": "code",
   "execution_count": null,
   "metadata": {},
   "outputs": [],
   "source": [
    "poppy.m1.goal_position = 0"
   ]
  },
  {
   "cell_type": "markdown",
   "metadata": {},
   "source": [
    "In the examples above, the motor turned as fast as possible (this is its default mode). You can change its *moving_speed* (i.e. its maximum possible speed) this way:"
   ]
  },
  {
   "cell_type": "code",
   "execution_count": null,
   "metadata": {},
   "outputs": [],
   "source": [
    "poppy.m1.moving_speed = 50"
   ]
  },
  {
   "cell_type": "code",
   "execution_count": null,
   "metadata": {},
   "outputs": [],
   "source": [
    "[f\"{m.name} speed: {m.moving_speed:5.1f}\" for m in poppy.motors]"
   ]
  },
  {
   "cell_type": "markdown",
   "metadata": {},
   "source": [
    "Now the motor *m1* can not move faster than 50 degrees per second. If we ask to move again, you should see the difference:"
   ]
  },
  {
   "cell_type": "code",
   "execution_count": null,
   "metadata": {},
   "outputs": [],
   "source": [
    "poppy.m1.goal_position = -10"
   ]
  },
  {
   "cell_type": "code",
   "execution_count": null,
   "metadata": {},
   "outputs": [],
   "source": [
    "poppy.m1.goal_position = 10"
   ]
  },
  {
   "cell_type": "markdown",
   "metadata": {},
   "source": [
    "#### <span style=\"color:#0060B0\">Exercise</span>\n",
    "Write a loop to make the `m1` motor move 5 times  between -10 and 10 degrees.<br>\n",
    "*tips*: you will have to wait a bit after each movement (`time.sleep(1)` for instance) to have a chance to see the robot move..."
   ]
  },
  {
   "cell_type": "code",
   "execution_count": null,
   "metadata": {},
   "outputs": [],
   "source": [
    "poppy.m1.moving_speed = 50\n",
    "for _ in range(5):\n",
    "    poppy.m1.goal_position = -10\n",
    "    time.sleep(1)\n",
    "    poppy.m1.goal_position = 10\n",
    "    time.sleep(1)"
   ]
  },
  {
   "cell_type": "markdown",
   "metadata": {},
   "source": [
    "#### Better control of the motors movement with `goto_position`"
   ]
  },
  {
   "cell_type": "markdown",
   "metadata": {},
   "source": [
    "Look at the online help on the `goto_position` method bellow:"
   ]
  },
  {
   "cell_type": "code",
   "execution_count": null,
   "metadata": {},
   "outputs": [],
   "source": [
    "help(poppy.m1.goto_position)"
   ]
  },
  {
   "cell_type": "markdown",
   "metadata": {},
   "source": [
    "With the `goto_position` method, you can master both the **amplitude** and the **duration** of the movement.<br>\n",
    "When set to `True`, the parameter `wait` let you force Python to wait until the movement is done (default value is `False`)."
   ]
  },
  {
   "cell_type": "markdown",
   "metadata": {},
   "source": [
    "#### <span style=\"color:#0060B0\">Exercise</span>\n",
    "Find a solution to the previous exercise using `goto_position` with the arfument `wait` set to `True`."
   ]
  },
  {
   "cell_type": "code",
   "execution_count": null,
   "metadata": {},
   "outputs": [],
   "source": [
    "for _ in range(5):\n",
    "    poppy.m1.goto_position(-10, 1, wait=True)\n",
    "    poppy.m1.goto_position(10, 2, wait=True)"
   ]
  },
  {
   "cell_type": "markdown",
   "metadata": {},
   "source": [
    "and now do the same without giving the `wait` argument... just for see:"
   ]
  },
  {
   "cell_type": "code",
   "execution_count": null,
   "metadata": {},
   "outputs": [],
   "source": [
    "for _ in range(5):\n",
    "    poppy.m1.goto_position(-10,1)\n",
    "    poppy.m1.goto_position(10,1)"
   ]
  },
  {
   "cell_type": "markdown",
   "metadata": {},
   "source": [
    "#### <span style=\"color:#0060B0\">Exercise</span>\n",
    "Define in a cell the function `zero` that makes all the motors go to their zero position. \n",
    "The function takes two parameters:<br>\n",
    "- `delay` (defautl value: 2) which is given as the `duration` positional argument for the calls to `goto_position`.<br>\n",
    "- `wait` (default value: False) which is given as the `wait` named argument for the calls to `goto_position`.<br>\n",
    "Run the function in a new cell."
   ]
  },
  {
   "cell_type": "code",
   "execution_count": null,
   "metadata": {},
   "outputs": [],
   "source": [
    "def zero(delay=2, wait=False):\n",
    "    for m in poppy.motors:\n",
    "        m.goto_position(0, delay, wait=wait)"
   ]
  },
  {
   "cell_type": "code",
   "execution_count": null,
   "metadata": {},
   "outputs": [],
   "source": [
    "zero()"
   ]
  },
  {
   "cell_type": "markdown",
   "metadata": {},
   "source": [
    "Try to run successively in different cells `poppy.rest_posture.start()` and `zero()` and then `poppy.rest_posture.start()` and `zero(1, wait=True)`"
   ]
  },
  {
   "cell_type": "code",
   "execution_count": null,
   "metadata": {},
   "outputs": [],
   "source": [
    "poppy.rest_posture.start()"
   ]
  },
  {
   "cell_type": "code",
   "execution_count": null,
   "metadata": {},
   "outputs": [],
   "source": [
    "zero()"
   ]
  },
  {
   "cell_type": "code",
   "execution_count": null,
   "metadata": {},
   "outputs": [],
   "source": [
    "poppy.rest_posture.start()"
   ]
  },
  {
   "cell_type": "code",
   "execution_count": null,
   "metadata": {},
   "outputs": [],
   "source": [
    "zero(1, wait=True)"
   ]
  },
  {
   "cell_type": "markdown",
   "metadata": {},
   "source": [
    "#### <span style=\"color:#0060B0\">Exercise</span>\n",
    "Try to redefine the function `zero` with a supplementary parameter `order` used to browse the list **motors** forward when `order` is 1 or backward when `order` is -1."
   ]
  },
  {
   "cell_type": "code",
   "execution_count": null,
   "metadata": {},
   "outputs": [],
   "source": [
    "def zero(delay=2, wait=False, order=1):\n",
    "    for m in poppy.motors[::order]:\n",
    "        m.goto_position(0, delay, wait=wait)"
   ]
  },
  {
   "cell_type": "markdown",
   "metadata": {},
   "source": [
    "Now you can play with  `poppy.rest_posture.start()` and `zero(1, wait=True, order=-1)`:"
   ]
  },
  {
   "cell_type": "code",
   "execution_count": null,
   "metadata": {},
   "outputs": [],
   "source": [
    "poppy.rest_posture.start()"
   ]
  },
  {
   "cell_type": "code",
   "execution_count": null,
   "metadata": {},
   "outputs": [],
   "source": [
    "zero(1, wait=True, order=-1)"
   ]
  },
  {
   "cell_type": "markdown",
   "metadata": {},
   "source": [
    "The main write registers are:\n",
    "\n",
    "* **goal_position**: target position in degrees\n",
    "* **moving_speed**: maximum reachable speed in degrees per second\n",
    "* **compliant** (explained below) "
   ]
  },
  {
   "cell_type": "markdown",
   "metadata": {},
   "source": [
    "The dynamixel servo motors have two modes:\n",
    "\n",
    "* **stiff**: the normal mode for motors in which they are driven by the software\n",
    "* **compliant**: a mode where the motors can be freely moved by hand.\n",
    "\n",
    "You can switch from one mode to the other using the *compliant* register. For instance, you can turn the motor *m6* compliant via:"
   ]
  },
  {
   "cell_type": "code",
   "execution_count": null,
   "metadata": {},
   "outputs": [],
   "source": [
    "poppy.m6.compliant = True"
   ]
  },
  {
   "cell_type": "markdown",
   "metadata": {},
   "source": [
    "You should now be able to move this motor by hand. This is particularly useful for programming your robot by demonstration (see the dedicated notebook)."
   ]
  },
  {
   "cell_type": "markdown",
   "metadata": {},
   "source": [
    " And to turn it stiff again:"
   ]
  },
  {
   "cell_type": "code",
   "execution_count": null,
   "metadata": {},
   "outputs": [],
   "source": [
    "poppy.m6.compliant = False"
   ]
  },
  {
   "cell_type": "markdown",
   "metadata": {},
   "source": [
    "You can also make all the robot **compliant** with:"
   ]
  },
  {
   "cell_type": "code",
   "execution_count": null,
   "metadata": {},
   "outputs": [],
   "source": [
    "poppy.compliant = True"
   ]
  },
  {
   "cell_type": "markdown",
   "metadata": {},
   "source": [
    "in this state, you can move all the motors by hand. And You can also make all the robot **stif** with:"
   ]
  },
  {
   "cell_type": "code",
   "execution_count": null,
   "metadata": {},
   "outputs": [],
   "source": [
    "poppy.compliant = False"
   ]
  },
  {
   "cell_type": "markdown",
   "metadata": {},
   "source": [
    "now all the motors of the robot are driven by the software to keep their position."
   ]
  },
  {
   "cell_type": "code",
   "execution_count": null,
   "metadata": {},
   "outputs": [],
   "source": [
    "zero()"
   ]
  },
  {
   "cell_type": "markdown",
   "metadata": {},
   "source": [
    "### Control the motor's LED"
   ]
  },
  {
   "cell_type": "markdown",
   "metadata": {},
   "source": [
    "The XL-320 motors of the Poppy Ergo Jr robot have a small RBG LED. You can change its color programatically from Python. This is a great way to make your robot more customized and expressive.\n",
    "\n",
    "If you want to turn on the LED of the first motor and make it green you simply have to run:"
   ]
  },
  {
   "cell_type": "code",
   "execution_count": null,
   "metadata": {},
   "outputs": [],
   "source": [
    "poppy.m1.led = 'green'"
   ]
  },
  {
   "cell_type": "markdown",
   "metadata": {},
   "source": [
    "And to turn it off again:"
   ]
  },
  {
   "cell_type": "code",
   "execution_count": null,
   "metadata": {},
   "outputs": [],
   "source": [
    "poppy.m1.led = 'off'"
   ]
  },
  {
   "cell_type": "markdown",
   "metadata": {},
   "source": [
    "Obviously you can also do some more complex LED blinking. For instance:"
   ]
  },
  {
   "cell_type": "code",
   "execution_count": null,
   "metadata": {},
   "outputs": [],
   "source": [
    "import time\n",
    "\n",
    "for m in poppy.motors:\n",
    "    time.sleep(0.5)\n",
    "    m.led = 'yellow'\n",
    "    time.sleep(1.0)\n",
    "    m.led = 'off'"
   ]
  },
  {
   "cell_type": "markdown",
   "metadata": {},
   "source": [
    "You can retrieve all available LED colors using:"
   ]
  },
  {
   "cell_type": "code",
   "execution_count": null,
   "metadata": {},
   "outputs": [],
   "source": [
    "from pypot.dynamixel.conversion import XL320LEDColors\n",
    "\n",
    "print(list(XL320LEDColors))"
   ]
  },
  {
   "cell_type": "markdown",
   "metadata": {},
   "source": [
    "#### <span style=\"color:#0060B0\">Exercise</span>\n",
    "Using a `for` loop to browse the LEDs, write a function that makes some funny animation with the motors LEDs<br>\n",
    "Try to parameter your function to make it more versatile..."
   ]
  },
  {
   "cell_type": "markdown",
   "metadata": {},
   "source": [
    "## Read sensors"
   ]
  },
  {
   "cell_type": "markdown",
   "metadata": {},
   "source": [
    "Reading sensors is exactly the same as reading registers from your robot. The sensors can be accessed via:"
   ]
  },
  {
   "cell_type": "code",
   "execution_count": null,
   "metadata": {},
   "outputs": [],
   "source": [
    "poppy.sensors"
   ]
  },
  {
   "cell_type": "markdown",
   "metadata": {},
   "source": [
    "Here, we have 2 sensors:\n",
    "* a camera\n",
    "* a marker detector\n",
    "\n",
    "They can be accessed via their name:"
   ]
  },
  {
   "cell_type": "code",
   "execution_count": null,
   "metadata": {},
   "outputs": [],
   "source": [
    "poppy.camera"
   ]
  },
  {
   "cell_type": "markdown",
   "metadata": {},
   "source": [
    "You can retrieve all the existing registers of a sensor:"
   ]
  },
  {
   "cell_type": "code",
   "execution_count": null,
   "metadata": {},
   "outputs": [],
   "source": [
    "poppy.camera.registers"
   ]
  },
  {
   "cell_type": "markdown",
   "metadata": {},
   "source": [
    "For example you can get the resolution and the number of frames per seconde (fps) of the camera:"
   ]
  },
  {
   "cell_type": "code",
   "execution_count": null,
   "metadata": {},
   "outputs": [],
   "source": [
    "poppy.camera.resolution, poppy.camera.fps"
   ]
  },
  {
   "cell_type": "markdown",
   "metadata": {},
   "source": [
    "Use this code to retrieve and display an image from the camera:"
   ]
  },
  {
   "cell_type": "code",
   "execution_count": null,
   "metadata": {},
   "outputs": [],
   "source": [
    "img = poppy.camera.frame\n",
    "plt.imshow(img);"
   ]
  },
  {
   "cell_type": "markdown",
   "metadata": {},
   "source": [
    "The object returned by `poppy.camera.frame` is a **ndarray** of **numpy**:"
   ]
  },
  {
   "cell_type": "code",
   "execution_count": null,
   "metadata": {},
   "outputs": [],
   "source": [
    "type(img)"
   ]
  },
  {
   "cell_type": "markdown",
   "metadata": {},
   "source": [
    "With this code, you can write an image file with `img`:"
   ]
  },
  {
   "cell_type": "code",
   "execution_count": null,
   "metadata": {},
   "outputs": [],
   "source": [
    "from PIL import Image\n",
    "im = Image.fromarray(img)\n",
    "im.save(\"img.png\")"
   ]
  },
  {
   "cell_type": "markdown",
   "metadata": {},
   "source": [
    "#### <span style=\"color:#0060B0\">Exercise</span>\n",
    "Use the module `os` to show the *current working directory* of this notebook.<br>\n",
    "print the list of the files in the current directory (one file name per line)."
   ]
  },
  {
   "cell_type": "code",
   "execution_count": null,
   "metadata": {},
   "outputs": [],
   "source": [
    "import os\n",
    "print(\"Current working dir:\", os.getcwd())\n",
    "for f in os.listdir():\n",
    "    print(f)"
   ]
  },
  {
   "cell_type": "markdown",
   "metadata": {},
   "source": [
    "## High level behaviors"
   ]
  },
  {
   "cell_type": "markdown",
   "metadata": {},
   "source": [
    "The Poppy Ergo Jr robot comes with a set of pre-defined behaviors. They can be static postures - such as the rest posture used at the beginning - or motions, like a dance"
   ]
  },
  {
   "cell_type": "markdown",
   "metadata": {},
   "source": [
    "You can find the exhaustive list using the *primitives* field:"
   ]
  },
  {
   "cell_type": "code",
   "execution_count": null,
   "metadata": {},
   "outputs": [],
   "source": [
    "[p.name for p in poppy.primitives]"
   ]
  },
  {
   "cell_type": "markdown",
   "metadata": {},
   "source": [
    "Those behaviors (named \"primitives\") can be started, stopped and paused during runtime."
   ]
  },
  {
   "cell_type": "code",
   "execution_count": null,
   "metadata": {},
   "outputs": [],
   "source": [
    "poppy.tetris_posture.start()"
   ]
  },
  {
   "cell_type": "code",
   "execution_count": null,
   "metadata": {},
   "outputs": [],
   "source": [
    "poppy.tetris_posture.stop()"
   ]
  },
  {
   "cell_type": "code",
   "execution_count": null,
   "metadata": {},
   "outputs": [],
   "source": [
    "poppy.base_posture.start()"
   ]
  },
  {
   "cell_type": "code",
   "execution_count": null,
   "metadata": {},
   "outputs": [],
   "source": [
    "poppy.safe_power_up.start()"
   ]
  },
  {
   "cell_type": "markdown",
   "metadata": {},
   "source": [
    "You can make the Poppy Ergo Jr dance for 10 seconds:"
   ]
  },
  {
   "cell_type": "code",
   "execution_count": null,
   "metadata": {},
   "outputs": [],
   "source": [
    "import time\n",
    "\n",
    "poppy.dance.start()\n",
    "time.sleep(10)\n",
    "poppy.dance.stop()"
   ]
  },
  {
   "cell_type": "markdown",
   "metadata": {},
   "source": [
    "## Going further\n",
    "\n",
    "Now that you have learnt the basis of what you can do with a Poppy Ergo Jr, there is much more to discover:\n",
    "* how to record/replay move by demonstration\n",
    "* how to define your own high-level behavior (e.g. a visual servoing of the tip of the robot using blob detection)\n",
    "* how to make Poppy Ergo Jr a connected device so that its communicates with the rest of the world using HTTP requests\n",
    "* ...\n",
    "\n",
    "You can find other examples in the [docs](http://docs.poppy-project.org) or in the notebook folder next to this one. This notebook is coming to an end. Select **File** > **Open** to open another example notebook."
   ]
  }
 ],
 "metadata": {
  "anaconda-cloud": {},
  "kernelspec": {
   "display_name": "Python 3 (ipykernel)",
   "language": "python",
   "name": "python3"
  },
  "language_info": {
   "codemirror_mode": {
    "name": "ipython",
    "version": 3
   },
   "file_extension": ".py",
   "mimetype": "text/x-python",
   "name": "python",
   "nbconvert_exporter": "python",
   "pygments_lexer": "ipython3",
   "version": "3.7.3"
  }
 },
 "nbformat": 4,
 "nbformat_minor": 1
}
